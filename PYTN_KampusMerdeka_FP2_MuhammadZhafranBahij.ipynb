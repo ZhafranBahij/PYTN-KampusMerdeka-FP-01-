{
 "cells": [
  {
   "cell_type": "markdown",
   "metadata": {
    "id": "R6LXR3UzcCR0"
   },
   "source": [
    "# FINAL PROJECT 2 "
   ]
  },
  {
   "cell_type": "markdown",
   "metadata": {
    "id": "O6NhmRdfaxoE"
   },
   "source": [
    "```\n",
    "******************************************\n",
    "* Nama          : Muhammad Zhafran Bahij *\n",
    "* Kode Peserta  : PYTN-KS05-008          *\n",
    "* Batch         : 5                      *\n",
    "* Project       : 2                      *\n",
    "******************************************\n",
    "```"
   ]
  },
  {
   "cell_type": "markdown",
   "metadata": {
    "id": "9lfb15Mpa1yH"
   },
   "source": [
    "# Kelompok 4\n",
    "1. Ari Sandy Kurniawan - PYTN-KS05-005\n",
    "2. Muhammad Zhafran Bahij - PYTN-KS05-008\n",
    "3. Roikhatul Miskiyah - PYTN-KS05-010"
   ]
  },
  {
   "cell_type": "markdown",
   "metadata": {
    "id": "RQs84RMxbJ_L"
   },
   "source": [
    "\n",
    "**Outline:**\n",
    "```\n",
    "A. Perkenalan\n",
    "B. Pustaka yang Dibutuhkan\n",
    "C. Data Loading \n",
    "D. Data Cleaning\n",
    "E. Eksplorasi Data\n",
    "F. Data Preprocessing\n",
    "G. Pendefinisian Model\n",
    "H. Pelatihan Model\n",
    "I. Evaluasi Model\n",
    "J. Model Inference\n",
    "K. Kesimpulan \n",
    "```"
   ]
  },
  {
   "cell_type": "markdown",
   "metadata": {
    "id": "ms6Np4ODb4sB"
   },
   "source": [
    "## A. Perkenalan"
   ]
  },
  {
   "cell_type": "markdown",
   "metadata": {
    "id": "QTn-9FTec9q8"
   },
   "source": [
    "1. Latar belakang\n",
    "\n",
    "Hujan merupakan bagian penting dari kehidupan kita. Awan memberikan hadiah hujan kepada manusia. Dalam rpoject ini kita mencoba meramalkan kapan akan \n",
    "turun hujan. Jadi, kita mencoba untuk memprediksi apakah akan hujan di Australia besok atau tidak. \n",
    "\n",
    "2. Data yang digunakan\n",
    "\n",
    "Dataset yang digunakan adalah database besar yang berisi 145460 nilai dan 23 kolom, di sini kita akan menggunakan database \"weatherAUS.csv\" yang tersedia untuk digunakan https://www.kaggle.com/jsphyg/weather-dataset-rattle-package. Data tersebut berisi pengamatan cuaca harian selama kurang lebih sepuluh tahun yang dikumpulkan dari berbagai stasiun cuaca Australia.\n",
    "RainTomorrow adalah variabel yang diprediksi (Y).\n",
    "\n",
    "3. Objective yang ingin dicapai\n",
    "\n",
    "Dalam penelitian ini kami memprediksi apakah akan turun hujan keesokan harinya di Australia menggunakan metode Logistic Regression dan Support Vector Machine (SVM). Kekhususan dataset yang dianalisis adalah data yang tidak seimbang, karena di wilayah geografis, yakni wilayah Australia hujan agak jarang terjadi. Dari data yang tidak seimbang tersebut sangat mempengaruhi kemampuan model untuk memprediksi 'kejadian langka', dalam hal ini untuk memprediksi besok akan hujan atau tidak."
   ]
  },
  {
   "cell_type": "markdown",
   "metadata": {
    "id": "ANsAThH4cNQt"
   },
   "source": [
    "## B. Pustaka yang Dibutuhkan"
   ]
  },
  {
   "cell_type": "code",
   "execution_count": 1,
   "metadata": {
    "ExecuteTime": {
     "end_time": "2022-05-13T06:38:25.372840Z",
     "start_time": "2022-05-13T06:37:33.990344Z"
    },
    "id": "a16kCoo4dKbL"
   },
   "outputs": [],
   "source": [
    "import pandas as pd\n",
    "import numpy as np\n",
    "import matplotlib.pyplot as plt\n",
    "import seaborn as sns\n",
    "import missingno as msno\n",
    "import plotly.express as px\n",
    "import folium\n",
    "\n",
    "\n",
    "from sklearn.linear_model import LogisticRegression\n",
    "from sklearn.model_selection import train_test_split\n",
    "from sklearn import svm\n",
    "import sklearn.metrics as metrics\n",
    "\n",
    "from time import time\n",
    "from six import StringIO\n",
    "from sklearn import tree\n",
    "import sklearn.tree as tree\n",
    "from IPython.display import Image\n",
    "import pydotplus\n",
    "import joblib\n",
    "import pickle"
   ]
  },
  {
   "cell_type": "markdown",
   "metadata": {
    "id": "bAj0bwwKcTQv"
   },
   "source": [
    "## C. Data Loading "
   ]
  },
  {
   "cell_type": "code",
   "execution_count": 2,
   "metadata": {
    "ExecuteTime": {
     "end_time": "2022-05-13T06:38:25.387935Z",
     "start_time": "2022-05-13T06:38:25.379883Z"
    },
    "colab": {
     "base_uri": "https://localhost:8080/"
    },
    "executionInfo": {
     "elapsed": 3260,
     "status": "ok",
     "timestamp": 1652325576788,
     "user": {
      "displayName": "Roikhatul Miskiyah",
      "userId": "03775508799116692671"
     },
     "user_tz": -420
    },
    "id": "tiACvGj6wzJL",
    "outputId": "787c490d-81cf-4374-c0bb-f053b374121c"
   },
   "outputs": [],
   "source": [
    "# from google.colab import drive\n",
    "# drive.mount('/content/drive/')"
   ]
  },
  {
   "cell_type": "code",
   "execution_count": 3,
   "metadata": {
    "ExecuteTime": {
     "end_time": "2022-05-13T06:38:25.693798Z",
     "start_time": "2022-05-13T06:38:25.394982Z"
    },
    "id": "JvkhAkMJw5S_"
   },
   "outputs": [],
   "source": [
    "# weatherAUS = '/content/drive/My Drive/FP2/weatherAUS.csv'"
   ]
  },
  {
   "cell_type": "code",
   "execution_count": 4,
   "metadata": {
    "ExecuteTime": {
     "end_time": "2022-05-13T06:38:27.771365Z",
     "start_time": "2022-05-13T06:38:25.704871Z"
    },
    "colab": {
     "base_uri": "https://localhost:8080/",
     "height": 386
    },
    "executionInfo": {
     "elapsed": 1029,
     "status": "ok",
     "timestamp": 1652325577811,
     "user": {
      "displayName": "Roikhatul Miskiyah",
      "userId": "03775508799116692671"
     },
     "user_tz": -420
    },
    "id": "nMEmaCdIxE22",
    "outputId": "95c7b124-c674-4791-8d30-db94e82b8493"
   },
   "outputs": [
    {
     "data": {
      "text/html": [
       "<div>\n",
       "<style scoped>\n",
       "    .dataframe tbody tr th:only-of-type {\n",
       "        vertical-align: middle;\n",
       "    }\n",
       "\n",
       "    .dataframe tbody tr th {\n",
       "        vertical-align: top;\n",
       "    }\n",
       "\n",
       "    .dataframe thead th {\n",
       "        text-align: right;\n",
       "    }\n",
       "</style>\n",
       "<table border=\"1\" class=\"dataframe\">\n",
       "  <thead>\n",
       "    <tr style=\"text-align: right;\">\n",
       "      <th></th>\n",
       "      <th>Date</th>\n",
       "      <th>Location</th>\n",
       "      <th>MinTemp</th>\n",
       "      <th>MaxTemp</th>\n",
       "      <th>Rainfall</th>\n",
       "      <th>Evaporation</th>\n",
       "      <th>Sunshine</th>\n",
       "      <th>WindGustDir</th>\n",
       "      <th>WindGustSpeed</th>\n",
       "      <th>WindDir9am</th>\n",
       "      <th>...</th>\n",
       "      <th>Humidity9am</th>\n",
       "      <th>Humidity3pm</th>\n",
       "      <th>Pressure9am</th>\n",
       "      <th>Pressure3pm</th>\n",
       "      <th>Cloud9am</th>\n",
       "      <th>Cloud3pm</th>\n",
       "      <th>Temp9am</th>\n",
       "      <th>Temp3pm</th>\n",
       "      <th>RainToday</th>\n",
       "      <th>RainTomorrow</th>\n",
       "    </tr>\n",
       "  </thead>\n",
       "  <tbody>\n",
       "    <tr>\n",
       "      <th>0</th>\n",
       "      <td>2008-12-01</td>\n",
       "      <td>Albury</td>\n",
       "      <td>13.4</td>\n",
       "      <td>22.9</td>\n",
       "      <td>0.6</td>\n",
       "      <td>NaN</td>\n",
       "      <td>NaN</td>\n",
       "      <td>W</td>\n",
       "      <td>44.0</td>\n",
       "      <td>W</td>\n",
       "      <td>...</td>\n",
       "      <td>71.0</td>\n",
       "      <td>22.0</td>\n",
       "      <td>1007.7</td>\n",
       "      <td>1007.1</td>\n",
       "      <td>8.0</td>\n",
       "      <td>NaN</td>\n",
       "      <td>16.9</td>\n",
       "      <td>21.8</td>\n",
       "      <td>No</td>\n",
       "      <td>No</td>\n",
       "    </tr>\n",
       "    <tr>\n",
       "      <th>1</th>\n",
       "      <td>2008-12-02</td>\n",
       "      <td>Albury</td>\n",
       "      <td>7.4</td>\n",
       "      <td>25.1</td>\n",
       "      <td>0.0</td>\n",
       "      <td>NaN</td>\n",
       "      <td>NaN</td>\n",
       "      <td>WNW</td>\n",
       "      <td>44.0</td>\n",
       "      <td>NNW</td>\n",
       "      <td>...</td>\n",
       "      <td>44.0</td>\n",
       "      <td>25.0</td>\n",
       "      <td>1010.6</td>\n",
       "      <td>1007.8</td>\n",
       "      <td>NaN</td>\n",
       "      <td>NaN</td>\n",
       "      <td>17.2</td>\n",
       "      <td>24.3</td>\n",
       "      <td>No</td>\n",
       "      <td>No</td>\n",
       "    </tr>\n",
       "    <tr>\n",
       "      <th>2</th>\n",
       "      <td>2008-12-03</td>\n",
       "      <td>Albury</td>\n",
       "      <td>12.9</td>\n",
       "      <td>25.7</td>\n",
       "      <td>0.0</td>\n",
       "      <td>NaN</td>\n",
       "      <td>NaN</td>\n",
       "      <td>WSW</td>\n",
       "      <td>46.0</td>\n",
       "      <td>W</td>\n",
       "      <td>...</td>\n",
       "      <td>38.0</td>\n",
       "      <td>30.0</td>\n",
       "      <td>1007.6</td>\n",
       "      <td>1008.7</td>\n",
       "      <td>NaN</td>\n",
       "      <td>2.0</td>\n",
       "      <td>21.0</td>\n",
       "      <td>23.2</td>\n",
       "      <td>No</td>\n",
       "      <td>No</td>\n",
       "    </tr>\n",
       "    <tr>\n",
       "      <th>3</th>\n",
       "      <td>2008-12-04</td>\n",
       "      <td>Albury</td>\n",
       "      <td>9.2</td>\n",
       "      <td>28.0</td>\n",
       "      <td>0.0</td>\n",
       "      <td>NaN</td>\n",
       "      <td>NaN</td>\n",
       "      <td>NE</td>\n",
       "      <td>24.0</td>\n",
       "      <td>SE</td>\n",
       "      <td>...</td>\n",
       "      <td>45.0</td>\n",
       "      <td>16.0</td>\n",
       "      <td>1017.6</td>\n",
       "      <td>1012.8</td>\n",
       "      <td>NaN</td>\n",
       "      <td>NaN</td>\n",
       "      <td>18.1</td>\n",
       "      <td>26.5</td>\n",
       "      <td>No</td>\n",
       "      <td>No</td>\n",
       "    </tr>\n",
       "    <tr>\n",
       "      <th>4</th>\n",
       "      <td>2008-12-05</td>\n",
       "      <td>Albury</td>\n",
       "      <td>17.5</td>\n",
       "      <td>32.3</td>\n",
       "      <td>1.0</td>\n",
       "      <td>NaN</td>\n",
       "      <td>NaN</td>\n",
       "      <td>W</td>\n",
       "      <td>41.0</td>\n",
       "      <td>ENE</td>\n",
       "      <td>...</td>\n",
       "      <td>82.0</td>\n",
       "      <td>33.0</td>\n",
       "      <td>1010.8</td>\n",
       "      <td>1006.0</td>\n",
       "      <td>7.0</td>\n",
       "      <td>8.0</td>\n",
       "      <td>17.8</td>\n",
       "      <td>29.7</td>\n",
       "      <td>No</td>\n",
       "      <td>No</td>\n",
       "    </tr>\n",
       "  </tbody>\n",
       "</table>\n",
       "<p>5 rows × 23 columns</p>\n",
       "</div>"
      ],
      "text/plain": [
       "         Date Location  MinTemp  MaxTemp  Rainfall  Evaporation  Sunshine  \\\n",
       "0  2008-12-01   Albury     13.4     22.9       0.6          NaN       NaN   \n",
       "1  2008-12-02   Albury      7.4     25.1       0.0          NaN       NaN   \n",
       "2  2008-12-03   Albury     12.9     25.7       0.0          NaN       NaN   \n",
       "3  2008-12-04   Albury      9.2     28.0       0.0          NaN       NaN   \n",
       "4  2008-12-05   Albury     17.5     32.3       1.0          NaN       NaN   \n",
       "\n",
       "  WindGustDir  WindGustSpeed WindDir9am  ... Humidity9am  Humidity3pm  \\\n",
       "0           W           44.0          W  ...        71.0         22.0   \n",
       "1         WNW           44.0        NNW  ...        44.0         25.0   \n",
       "2         WSW           46.0          W  ...        38.0         30.0   \n",
       "3          NE           24.0         SE  ...        45.0         16.0   \n",
       "4           W           41.0        ENE  ...        82.0         33.0   \n",
       "\n",
       "   Pressure9am  Pressure3pm  Cloud9am  Cloud3pm  Temp9am  Temp3pm  RainToday  \\\n",
       "0       1007.7       1007.1       8.0       NaN     16.9     21.8         No   \n",
       "1       1010.6       1007.8       NaN       NaN     17.2     24.3         No   \n",
       "2       1007.6       1008.7       NaN       2.0     21.0     23.2         No   \n",
       "3       1017.6       1012.8       NaN       NaN     18.1     26.5         No   \n",
       "4       1010.8       1006.0       7.0       8.0     17.8     29.7         No   \n",
       "\n",
       "   RainTomorrow  \n",
       "0            No  \n",
       "1            No  \n",
       "2            No  \n",
       "3            No  \n",
       "4            No  \n",
       "\n",
       "[5 rows x 23 columns]"
      ]
     },
     "execution_count": 4,
     "metadata": {},
     "output_type": "execute_result"
    }
   ],
   "source": [
    "# df = pd.read_csv(weatherAUS)\n",
    "df = pd.read_csv('./weatherAUS.csv')\n",
    "df.head(5)"
   ]
  },
  {
   "cell_type": "markdown",
   "metadata": {
    "id": "_xtn58s0cY5g"
   },
   "source": [
    "## D. Data Cleaning"
   ]
  },
  {
   "cell_type": "code",
   "execution_count": 5,
   "metadata": {
    "ExecuteTime": {
     "end_time": "2022-05-13T06:38:28.513324Z",
     "start_time": "2022-05-13T06:38:27.777408Z"
    },
    "colab": {
     "base_uri": "https://localhost:8080/"
    },
    "executionInfo": {
     "elapsed": 16,
     "status": "ok",
     "timestamp": 1652325577815,
     "user": {
      "displayName": "Roikhatul Miskiyah",
      "userId": "03775508799116692671"
     },
     "user_tz": -420
    },
    "id": "RzhSfEtbxhpT",
    "outputId": "a1f1ffae-980d-4215-bde6-a4b64ccb634d"
   },
   "outputs": [
    {
     "name": "stdout",
     "output_type": "stream",
     "text": [
      "<class 'pandas.core.frame.DataFrame'>\n",
      "RangeIndex: 145460 entries, 0 to 145459\n",
      "Data columns (total 23 columns):\n",
      " #   Column         Non-Null Count   Dtype  \n",
      "---  ------         --------------   -----  \n",
      " 0   Date           145460 non-null  object \n",
      " 1   Location       145460 non-null  object \n",
      " 2   MinTemp        143975 non-null  float64\n",
      " 3   MaxTemp        144199 non-null  float64\n",
      " 4   Rainfall       142199 non-null  float64\n",
      " 5   Evaporation    82670 non-null   float64\n",
      " 6   Sunshine       75625 non-null   float64\n",
      " 7   WindGustDir    135134 non-null  object \n",
      " 8   WindGustSpeed  135197 non-null  float64\n",
      " 9   WindDir9am     134894 non-null  object \n",
      " 10  WindDir3pm     141232 non-null  object \n",
      " 11  WindSpeed9am   143693 non-null  float64\n",
      " 12  WindSpeed3pm   142398 non-null  float64\n",
      " 13  Humidity9am    142806 non-null  float64\n",
      " 14  Humidity3pm    140953 non-null  float64\n",
      " 15  Pressure9am    130395 non-null  float64\n",
      " 16  Pressure3pm    130432 non-null  float64\n",
      " 17  Cloud9am       89572 non-null   float64\n",
      " 18  Cloud3pm       86102 non-null   float64\n",
      " 19  Temp9am        143693 non-null  float64\n",
      " 20  Temp3pm        141851 non-null  float64\n",
      " 21  RainToday      142199 non-null  object \n",
      " 22  RainTomorrow   142193 non-null  object \n",
      "dtypes: float64(16), object(7)\n",
      "memory usage: 25.5+ MB\n"
     ]
    }
   ],
   "source": [
    "df.info()"
   ]
  },
  {
   "cell_type": "code",
   "execution_count": 6,
   "metadata": {
    "ExecuteTime": {
     "end_time": "2022-05-13T06:38:29.387428Z",
     "start_time": "2022-05-13T06:38:28.513324Z"
    },
    "colab": {
     "base_uri": "https://localhost:8080/",
     "height": 364
    },
    "executionInfo": {
     "elapsed": 685,
     "status": "ok",
     "timestamp": 1652325578490,
     "user": {
      "displayName": "Roikhatul Miskiyah",
      "userId": "03775508799116692671"
     },
     "user_tz": -420
    },
    "id": "PhDP1_Ko9TXF",
    "outputId": "76efea69-3ef8-47f6-ddd7-0df3af6fa2c8"
   },
   "outputs": [
    {
     "data": {
      "text/html": [
       "<div>\n",
       "<style scoped>\n",
       "    .dataframe tbody tr th:only-of-type {\n",
       "        vertical-align: middle;\n",
       "    }\n",
       "\n",
       "    .dataframe tbody tr th {\n",
       "        vertical-align: top;\n",
       "    }\n",
       "\n",
       "    .dataframe thead th {\n",
       "        text-align: right;\n",
       "    }\n",
       "</style>\n",
       "<table border=\"1\" class=\"dataframe\">\n",
       "  <thead>\n",
       "    <tr style=\"text-align: right;\">\n",
       "      <th></th>\n",
       "      <th>MinTemp</th>\n",
       "      <th>MaxTemp</th>\n",
       "      <th>Rainfall</th>\n",
       "      <th>Evaporation</th>\n",
       "      <th>Sunshine</th>\n",
       "      <th>WindGustSpeed</th>\n",
       "      <th>WindSpeed9am</th>\n",
       "      <th>WindSpeed3pm</th>\n",
       "      <th>Humidity9am</th>\n",
       "      <th>Humidity3pm</th>\n",
       "      <th>Pressure9am</th>\n",
       "      <th>Pressure3pm</th>\n",
       "      <th>Cloud9am</th>\n",
       "      <th>Cloud3pm</th>\n",
       "      <th>Temp9am</th>\n",
       "      <th>Temp3pm</th>\n",
       "    </tr>\n",
       "  </thead>\n",
       "  <tbody>\n",
       "    <tr>\n",
       "      <th>count</th>\n",
       "      <td>143975.000000</td>\n",
       "      <td>144199.000000</td>\n",
       "      <td>142199.000000</td>\n",
       "      <td>82670.000000</td>\n",
       "      <td>75625.000000</td>\n",
       "      <td>135197.000000</td>\n",
       "      <td>143693.000000</td>\n",
       "      <td>142398.000000</td>\n",
       "      <td>142806.000000</td>\n",
       "      <td>140953.000000</td>\n",
       "      <td>130395.00000</td>\n",
       "      <td>130432.000000</td>\n",
       "      <td>89572.000000</td>\n",
       "      <td>86102.000000</td>\n",
       "      <td>143693.000000</td>\n",
       "      <td>141851.00000</td>\n",
       "    </tr>\n",
       "    <tr>\n",
       "      <th>mean</th>\n",
       "      <td>12.194034</td>\n",
       "      <td>23.221348</td>\n",
       "      <td>2.360918</td>\n",
       "      <td>5.468232</td>\n",
       "      <td>7.611178</td>\n",
       "      <td>40.035230</td>\n",
       "      <td>14.043426</td>\n",
       "      <td>18.662657</td>\n",
       "      <td>68.880831</td>\n",
       "      <td>51.539116</td>\n",
       "      <td>1017.64994</td>\n",
       "      <td>1015.255889</td>\n",
       "      <td>4.447461</td>\n",
       "      <td>4.509930</td>\n",
       "      <td>16.990631</td>\n",
       "      <td>21.68339</td>\n",
       "    </tr>\n",
       "    <tr>\n",
       "      <th>std</th>\n",
       "      <td>6.398495</td>\n",
       "      <td>7.119049</td>\n",
       "      <td>8.478060</td>\n",
       "      <td>4.193704</td>\n",
       "      <td>3.785483</td>\n",
       "      <td>13.607062</td>\n",
       "      <td>8.915375</td>\n",
       "      <td>8.809800</td>\n",
       "      <td>19.029164</td>\n",
       "      <td>20.795902</td>\n",
       "      <td>7.10653</td>\n",
       "      <td>7.037414</td>\n",
       "      <td>2.887159</td>\n",
       "      <td>2.720357</td>\n",
       "      <td>6.488753</td>\n",
       "      <td>6.93665</td>\n",
       "    </tr>\n",
       "    <tr>\n",
       "      <th>min</th>\n",
       "      <td>-8.500000</td>\n",
       "      <td>-4.800000</td>\n",
       "      <td>0.000000</td>\n",
       "      <td>0.000000</td>\n",
       "      <td>0.000000</td>\n",
       "      <td>6.000000</td>\n",
       "      <td>0.000000</td>\n",
       "      <td>0.000000</td>\n",
       "      <td>0.000000</td>\n",
       "      <td>0.000000</td>\n",
       "      <td>980.50000</td>\n",
       "      <td>977.100000</td>\n",
       "      <td>0.000000</td>\n",
       "      <td>0.000000</td>\n",
       "      <td>-7.200000</td>\n",
       "      <td>-5.40000</td>\n",
       "    </tr>\n",
       "    <tr>\n",
       "      <th>25%</th>\n",
       "      <td>7.600000</td>\n",
       "      <td>17.900000</td>\n",
       "      <td>0.000000</td>\n",
       "      <td>2.600000</td>\n",
       "      <td>4.800000</td>\n",
       "      <td>31.000000</td>\n",
       "      <td>7.000000</td>\n",
       "      <td>13.000000</td>\n",
       "      <td>57.000000</td>\n",
       "      <td>37.000000</td>\n",
       "      <td>1012.90000</td>\n",
       "      <td>1010.400000</td>\n",
       "      <td>1.000000</td>\n",
       "      <td>2.000000</td>\n",
       "      <td>12.300000</td>\n",
       "      <td>16.60000</td>\n",
       "    </tr>\n",
       "    <tr>\n",
       "      <th>50%</th>\n",
       "      <td>12.000000</td>\n",
       "      <td>22.600000</td>\n",
       "      <td>0.000000</td>\n",
       "      <td>4.800000</td>\n",
       "      <td>8.400000</td>\n",
       "      <td>39.000000</td>\n",
       "      <td>13.000000</td>\n",
       "      <td>19.000000</td>\n",
       "      <td>70.000000</td>\n",
       "      <td>52.000000</td>\n",
       "      <td>1017.60000</td>\n",
       "      <td>1015.200000</td>\n",
       "      <td>5.000000</td>\n",
       "      <td>5.000000</td>\n",
       "      <td>16.700000</td>\n",
       "      <td>21.10000</td>\n",
       "    </tr>\n",
       "    <tr>\n",
       "      <th>75%</th>\n",
       "      <td>16.900000</td>\n",
       "      <td>28.200000</td>\n",
       "      <td>0.800000</td>\n",
       "      <td>7.400000</td>\n",
       "      <td>10.600000</td>\n",
       "      <td>48.000000</td>\n",
       "      <td>19.000000</td>\n",
       "      <td>24.000000</td>\n",
       "      <td>83.000000</td>\n",
       "      <td>66.000000</td>\n",
       "      <td>1022.40000</td>\n",
       "      <td>1020.000000</td>\n",
       "      <td>7.000000</td>\n",
       "      <td>7.000000</td>\n",
       "      <td>21.600000</td>\n",
       "      <td>26.40000</td>\n",
       "    </tr>\n",
       "    <tr>\n",
       "      <th>max</th>\n",
       "      <td>33.900000</td>\n",
       "      <td>48.100000</td>\n",
       "      <td>371.000000</td>\n",
       "      <td>145.000000</td>\n",
       "      <td>14.500000</td>\n",
       "      <td>135.000000</td>\n",
       "      <td>130.000000</td>\n",
       "      <td>87.000000</td>\n",
       "      <td>100.000000</td>\n",
       "      <td>100.000000</td>\n",
       "      <td>1041.00000</td>\n",
       "      <td>1039.600000</td>\n",
       "      <td>9.000000</td>\n",
       "      <td>9.000000</td>\n",
       "      <td>40.200000</td>\n",
       "      <td>46.70000</td>\n",
       "    </tr>\n",
       "  </tbody>\n",
       "</table>\n",
       "</div>"
      ],
      "text/plain": [
       "             MinTemp        MaxTemp       Rainfall   Evaporation  \\\n",
       "count  143975.000000  144199.000000  142199.000000  82670.000000   \n",
       "mean       12.194034      23.221348       2.360918      5.468232   \n",
       "std         6.398495       7.119049       8.478060      4.193704   \n",
       "min        -8.500000      -4.800000       0.000000      0.000000   \n",
       "25%         7.600000      17.900000       0.000000      2.600000   \n",
       "50%        12.000000      22.600000       0.000000      4.800000   \n",
       "75%        16.900000      28.200000       0.800000      7.400000   \n",
       "max        33.900000      48.100000     371.000000    145.000000   \n",
       "\n",
       "           Sunshine  WindGustSpeed   WindSpeed9am   WindSpeed3pm  \\\n",
       "count  75625.000000  135197.000000  143693.000000  142398.000000   \n",
       "mean       7.611178      40.035230      14.043426      18.662657   \n",
       "std        3.785483      13.607062       8.915375       8.809800   \n",
       "min        0.000000       6.000000       0.000000       0.000000   \n",
       "25%        4.800000      31.000000       7.000000      13.000000   \n",
       "50%        8.400000      39.000000      13.000000      19.000000   \n",
       "75%       10.600000      48.000000      19.000000      24.000000   \n",
       "max       14.500000     135.000000     130.000000      87.000000   \n",
       "\n",
       "         Humidity9am    Humidity3pm   Pressure9am    Pressure3pm  \\\n",
       "count  142806.000000  140953.000000  130395.00000  130432.000000   \n",
       "mean       68.880831      51.539116    1017.64994    1015.255889   \n",
       "std        19.029164      20.795902       7.10653       7.037414   \n",
       "min         0.000000       0.000000     980.50000     977.100000   \n",
       "25%        57.000000      37.000000    1012.90000    1010.400000   \n",
       "50%        70.000000      52.000000    1017.60000    1015.200000   \n",
       "75%        83.000000      66.000000    1022.40000    1020.000000   \n",
       "max       100.000000     100.000000    1041.00000    1039.600000   \n",
       "\n",
       "           Cloud9am      Cloud3pm        Temp9am       Temp3pm  \n",
       "count  89572.000000  86102.000000  143693.000000  141851.00000  \n",
       "mean       4.447461      4.509930      16.990631      21.68339  \n",
       "std        2.887159      2.720357       6.488753       6.93665  \n",
       "min        0.000000      0.000000      -7.200000      -5.40000  \n",
       "25%        1.000000      2.000000      12.300000      16.60000  \n",
       "50%        5.000000      5.000000      16.700000      21.10000  \n",
       "75%        7.000000      7.000000      21.600000      26.40000  \n",
       "max        9.000000      9.000000      40.200000      46.70000  "
      ]
     },
     "execution_count": 6,
     "metadata": {},
     "output_type": "execute_result"
    }
   ],
   "source": [
    "df.describe()"
   ]
  },
  {
   "cell_type": "markdown",
   "metadata": {
    "id": "GikZsfgM9VMb"
   },
   "source": [
    "Dari hasil deksripsi di atas dapat dilihat beberapa hal penting, seperti suhu sedang di Australia (12 hingga 23 derajat), kita juga dapat melihat bahwa suhu dapat mencapai tingkat yang sangat tinggi."
   ]
  },
  {
   "cell_type": "code",
   "execution_count": 7,
   "metadata": {
    "ExecuteTime": {
     "end_time": "2022-05-13T06:38:30.168500Z",
     "start_time": "2022-05-13T06:38:29.394521Z"
    },
    "colab": {
     "base_uri": "https://localhost:8080/",
     "height": 551
    },
    "executionInfo": {
     "elapsed": 36,
     "status": "ok",
     "timestamp": 1652325578493,
     "user": {
      "displayName": "Roikhatul Miskiyah",
      "userId": "03775508799116692671"
     },
     "user_tz": -420
    },
    "id": "hnfrPpPX8EBM",
    "outputId": "dc54dd22-365c-438e-ebcc-740989f6ad4c"
   },
   "outputs": [
    {
     "data": {
      "text/html": [
       "<div>\n",
       "<style scoped>\n",
       "    .dataframe tbody tr th:only-of-type {\n",
       "        vertical-align: middle;\n",
       "    }\n",
       "\n",
       "    .dataframe tbody tr th {\n",
       "        vertical-align: top;\n",
       "    }\n",
       "\n",
       "    .dataframe thead th {\n",
       "        text-align: right;\n",
       "    }\n",
       "</style>\n",
       "<table border=\"1\" class=\"dataframe\">\n",
       "  <thead>\n",
       "    <tr style=\"text-align: right;\">\n",
       "      <th></th>\n",
       "      <th>count</th>\n",
       "      <th>mean</th>\n",
       "      <th>std</th>\n",
       "      <th>min</th>\n",
       "      <th>25%</th>\n",
       "      <th>50%</th>\n",
       "      <th>75%</th>\n",
       "      <th>max</th>\n",
       "    </tr>\n",
       "  </thead>\n",
       "  <tbody>\n",
       "    <tr>\n",
       "      <th>MinTemp</th>\n",
       "      <td>143975.0</td>\n",
       "      <td>12.194034</td>\n",
       "      <td>6.398495</td>\n",
       "      <td>-8.5</td>\n",
       "      <td>7.6</td>\n",
       "      <td>12.0</td>\n",
       "      <td>16.9</td>\n",
       "      <td>33.9</td>\n",
       "    </tr>\n",
       "    <tr>\n",
       "      <th>MaxTemp</th>\n",
       "      <td>144199.0</td>\n",
       "      <td>23.221348</td>\n",
       "      <td>7.119049</td>\n",
       "      <td>-4.8</td>\n",
       "      <td>17.9</td>\n",
       "      <td>22.6</td>\n",
       "      <td>28.2</td>\n",
       "      <td>48.1</td>\n",
       "    </tr>\n",
       "    <tr>\n",
       "      <th>Rainfall</th>\n",
       "      <td>142199.0</td>\n",
       "      <td>2.360918</td>\n",
       "      <td>8.478060</td>\n",
       "      <td>0.0</td>\n",
       "      <td>0.0</td>\n",
       "      <td>0.0</td>\n",
       "      <td>0.8</td>\n",
       "      <td>371.0</td>\n",
       "    </tr>\n",
       "    <tr>\n",
       "      <th>Evaporation</th>\n",
       "      <td>82670.0</td>\n",
       "      <td>5.468232</td>\n",
       "      <td>4.193704</td>\n",
       "      <td>0.0</td>\n",
       "      <td>2.6</td>\n",
       "      <td>4.8</td>\n",
       "      <td>7.4</td>\n",
       "      <td>145.0</td>\n",
       "    </tr>\n",
       "    <tr>\n",
       "      <th>Sunshine</th>\n",
       "      <td>75625.0</td>\n",
       "      <td>7.611178</td>\n",
       "      <td>3.785483</td>\n",
       "      <td>0.0</td>\n",
       "      <td>4.8</td>\n",
       "      <td>8.4</td>\n",
       "      <td>10.6</td>\n",
       "      <td>14.5</td>\n",
       "    </tr>\n",
       "    <tr>\n",
       "      <th>WindGustSpeed</th>\n",
       "      <td>135197.0</td>\n",
       "      <td>40.035230</td>\n",
       "      <td>13.607062</td>\n",
       "      <td>6.0</td>\n",
       "      <td>31.0</td>\n",
       "      <td>39.0</td>\n",
       "      <td>48.0</td>\n",
       "      <td>135.0</td>\n",
       "    </tr>\n",
       "    <tr>\n",
       "      <th>WindSpeed9am</th>\n",
       "      <td>143693.0</td>\n",
       "      <td>14.043426</td>\n",
       "      <td>8.915375</td>\n",
       "      <td>0.0</td>\n",
       "      <td>7.0</td>\n",
       "      <td>13.0</td>\n",
       "      <td>19.0</td>\n",
       "      <td>130.0</td>\n",
       "    </tr>\n",
       "    <tr>\n",
       "      <th>WindSpeed3pm</th>\n",
       "      <td>142398.0</td>\n",
       "      <td>18.662657</td>\n",
       "      <td>8.809800</td>\n",
       "      <td>0.0</td>\n",
       "      <td>13.0</td>\n",
       "      <td>19.0</td>\n",
       "      <td>24.0</td>\n",
       "      <td>87.0</td>\n",
       "    </tr>\n",
       "    <tr>\n",
       "      <th>Humidity9am</th>\n",
       "      <td>142806.0</td>\n",
       "      <td>68.880831</td>\n",
       "      <td>19.029164</td>\n",
       "      <td>0.0</td>\n",
       "      <td>57.0</td>\n",
       "      <td>70.0</td>\n",
       "      <td>83.0</td>\n",
       "      <td>100.0</td>\n",
       "    </tr>\n",
       "    <tr>\n",
       "      <th>Humidity3pm</th>\n",
       "      <td>140953.0</td>\n",
       "      <td>51.539116</td>\n",
       "      <td>20.795902</td>\n",
       "      <td>0.0</td>\n",
       "      <td>37.0</td>\n",
       "      <td>52.0</td>\n",
       "      <td>66.0</td>\n",
       "      <td>100.0</td>\n",
       "    </tr>\n",
       "    <tr>\n",
       "      <th>Pressure9am</th>\n",
       "      <td>130395.0</td>\n",
       "      <td>1017.649940</td>\n",
       "      <td>7.106530</td>\n",
       "      <td>980.5</td>\n",
       "      <td>1012.9</td>\n",
       "      <td>1017.6</td>\n",
       "      <td>1022.4</td>\n",
       "      <td>1041.0</td>\n",
       "    </tr>\n",
       "    <tr>\n",
       "      <th>Pressure3pm</th>\n",
       "      <td>130432.0</td>\n",
       "      <td>1015.255889</td>\n",
       "      <td>7.037414</td>\n",
       "      <td>977.1</td>\n",
       "      <td>1010.4</td>\n",
       "      <td>1015.2</td>\n",
       "      <td>1020.0</td>\n",
       "      <td>1039.6</td>\n",
       "    </tr>\n",
       "    <tr>\n",
       "      <th>Cloud9am</th>\n",
       "      <td>89572.0</td>\n",
       "      <td>4.447461</td>\n",
       "      <td>2.887159</td>\n",
       "      <td>0.0</td>\n",
       "      <td>1.0</td>\n",
       "      <td>5.0</td>\n",
       "      <td>7.0</td>\n",
       "      <td>9.0</td>\n",
       "    </tr>\n",
       "    <tr>\n",
       "      <th>Cloud3pm</th>\n",
       "      <td>86102.0</td>\n",
       "      <td>4.509930</td>\n",
       "      <td>2.720357</td>\n",
       "      <td>0.0</td>\n",
       "      <td>2.0</td>\n",
       "      <td>5.0</td>\n",
       "      <td>7.0</td>\n",
       "      <td>9.0</td>\n",
       "    </tr>\n",
       "    <tr>\n",
       "      <th>Temp9am</th>\n",
       "      <td>143693.0</td>\n",
       "      <td>16.990631</td>\n",
       "      <td>6.488753</td>\n",
       "      <td>-7.2</td>\n",
       "      <td>12.3</td>\n",
       "      <td>16.7</td>\n",
       "      <td>21.6</td>\n",
       "      <td>40.2</td>\n",
       "    </tr>\n",
       "    <tr>\n",
       "      <th>Temp3pm</th>\n",
       "      <td>141851.0</td>\n",
       "      <td>21.683390</td>\n",
       "      <td>6.936650</td>\n",
       "      <td>-5.4</td>\n",
       "      <td>16.6</td>\n",
       "      <td>21.1</td>\n",
       "      <td>26.4</td>\n",
       "      <td>46.7</td>\n",
       "    </tr>\n",
       "  </tbody>\n",
       "</table>\n",
       "</div>"
      ],
      "text/plain": [
       "                  count         mean        std    min     25%     50%  \\\n",
       "MinTemp        143975.0    12.194034   6.398495   -8.5     7.6    12.0   \n",
       "MaxTemp        144199.0    23.221348   7.119049   -4.8    17.9    22.6   \n",
       "Rainfall       142199.0     2.360918   8.478060    0.0     0.0     0.0   \n",
       "Evaporation     82670.0     5.468232   4.193704    0.0     2.6     4.8   \n",
       "Sunshine        75625.0     7.611178   3.785483    0.0     4.8     8.4   \n",
       "WindGustSpeed  135197.0    40.035230  13.607062    6.0    31.0    39.0   \n",
       "WindSpeed9am   143693.0    14.043426   8.915375    0.0     7.0    13.0   \n",
       "WindSpeed3pm   142398.0    18.662657   8.809800    0.0    13.0    19.0   \n",
       "Humidity9am    142806.0    68.880831  19.029164    0.0    57.0    70.0   \n",
       "Humidity3pm    140953.0    51.539116  20.795902    0.0    37.0    52.0   \n",
       "Pressure9am    130395.0  1017.649940   7.106530  980.5  1012.9  1017.6   \n",
       "Pressure3pm    130432.0  1015.255889   7.037414  977.1  1010.4  1015.2   \n",
       "Cloud9am        89572.0     4.447461   2.887159    0.0     1.0     5.0   \n",
       "Cloud3pm        86102.0     4.509930   2.720357    0.0     2.0     5.0   \n",
       "Temp9am        143693.0    16.990631   6.488753   -7.2    12.3    16.7   \n",
       "Temp3pm        141851.0    21.683390   6.936650   -5.4    16.6    21.1   \n",
       "\n",
       "                  75%     max  \n",
       "MinTemp          16.9    33.9  \n",
       "MaxTemp          28.2    48.1  \n",
       "Rainfall          0.8   371.0  \n",
       "Evaporation       7.4   145.0  \n",
       "Sunshine         10.6    14.5  \n",
       "WindGustSpeed    48.0   135.0  \n",
       "WindSpeed9am     19.0   130.0  \n",
       "WindSpeed3pm     24.0    87.0  \n",
       "Humidity9am      83.0   100.0  \n",
       "Humidity3pm      66.0   100.0  \n",
       "Pressure9am    1022.4  1041.0  \n",
       "Pressure3pm    1020.0  1039.6  \n",
       "Cloud9am          7.0     9.0  \n",
       "Cloud3pm          7.0     9.0  \n",
       "Temp9am          21.6    40.2  \n",
       "Temp3pm          26.4    46.7  "
      ]
     },
     "execution_count": 7,
     "metadata": {},
     "output_type": "execute_result"
    }
   ],
   "source": [
    "df.describe().T"
   ]
  },
  {
   "cell_type": "code",
   "execution_count": 8,
   "metadata": {
    "ExecuteTime": {
     "end_time": "2022-05-13T06:38:30.188768Z",
     "start_time": "2022-05-13T06:38:30.174581Z"
    },
    "colab": {
     "base_uri": "https://localhost:8080/"
    },
    "executionInfo": {
     "elapsed": 69,
     "status": "ok",
     "timestamp": 1652325578528,
     "user": {
      "displayName": "Roikhatul Miskiyah",
      "userId": "03775508799116692671"
     },
     "user_tz": -420
    },
    "id": "UFmw-qhkxlDJ",
    "outputId": "f5423117-dfa6-4a00-fc5a-14c6247af4a5"
   },
   "outputs": [
    {
     "data": {
      "text/plain": [
       "(145460, 23)"
      ]
     },
     "execution_count": 8,
     "metadata": {},
     "output_type": "execute_result"
    }
   ],
   "source": [
    "df.shape"
   ]
  },
  {
   "cell_type": "code",
   "execution_count": 9,
   "metadata": {
    "ExecuteTime": {
     "end_time": "2022-05-13T06:38:30.521648Z",
     "start_time": "2022-05-13T06:38:30.199408Z"
    },
    "colab": {
     "base_uri": "https://localhost:8080/"
    },
    "executionInfo": {
     "elapsed": 70,
     "status": "ok",
     "timestamp": 1652325578535,
     "user": {
      "displayName": "Roikhatul Miskiyah",
      "userId": "03775508799116692671"
     },
     "user_tz": -420
    },
    "id": "jrrtClV9xpoj",
    "outputId": "8590e877-eac5-4107-fc96-c8bc2cb46102"
   },
   "outputs": [
    {
     "data": {
      "text/plain": [
       "Date                 0\n",
       "Location             0\n",
       "MinTemp           1485\n",
       "MaxTemp           1261\n",
       "Rainfall          3261\n",
       "Evaporation      62790\n",
       "Sunshine         69835\n",
       "WindGustDir      10326\n",
       "WindGustSpeed    10263\n",
       "WindDir9am       10566\n",
       "WindDir3pm        4228\n",
       "WindSpeed9am      1767\n",
       "WindSpeed3pm      3062\n",
       "Humidity9am       2654\n",
       "Humidity3pm       4507\n",
       "Pressure9am      15065\n",
       "Pressure3pm      15028\n",
       "Cloud9am         55888\n",
       "Cloud3pm         59358\n",
       "Temp9am           1767\n",
       "Temp3pm           3609\n",
       "RainToday         3261\n",
       "RainTomorrow      3267\n",
       "dtype: int64"
      ]
     },
     "execution_count": 9,
     "metadata": {},
     "output_type": "execute_result"
    }
   ],
   "source": [
    "df.isnull().sum()"
   ]
  },
  {
   "cell_type": "markdown",
   "metadata": {
    "id": "0OlMfRNFAFOJ"
   },
   "source": [
    "Hasil di atas menunjukkan bahwa terdapat missing value yang begitu banyak dibandingkan dengan data yang tidak memiliki missing values."
   ]
  },
  {
   "cell_type": "code",
   "execution_count": 10,
   "metadata": {
    "ExecuteTime": {
     "end_time": "2022-05-13T06:38:36.068221Z",
     "start_time": "2022-05-13T06:38:30.532794Z"
    },
    "colab": {
     "base_uri": "https://localhost:8080/",
     "height": 749
    },
    "executionInfo": {
     "elapsed": 4210,
     "status": "ok",
     "timestamp": 1652325582679,
     "user": {
      "displayName": "Roikhatul Miskiyah",
      "userId": "03775508799116692671"
     },
     "user_tz": -420
    },
    "id": "Cw-fu4CZAO3M",
    "outputId": "1c813ba8-5aee-4aaf-efb8-ef4d37e8ff00"
   },
   "outputs": [
    {
     "data": {
      "text/plain": [
       "<AxesSubplot:>"
      ]
     },
     "execution_count": 10,
     "metadata": {},
     "output_type": "execute_result"
    },
    {
     "data": {
      "image/png": "[encoded data removed]",
      "text/plain": [
       "<Figure size 1800x720 with 3 Axes>"
      ]
     },
     "metadata": {
      "needs_background": "light"
     },
     "output_type": "display_data"
    }
   ],
   "source": [
    "msno.bar(df, sort='ascending')"
   ]
  },
  {
   "cell_type": "markdown",
   "metadata": {
    "id": "VtacbQnjAlfA"
   },
   "source": [
    "Di sini kita mengisi variabel kontinu yang memiliki nilai nol dengan mean."
   ]
  },
  {
   "cell_type": "code",
   "execution_count": 11,
   "metadata": {
    "ExecuteTime": {
     "end_time": "2022-05-13T06:38:36.388710Z",
     "start_time": "2022-05-13T06:38:36.071768Z"
    },
    "id": "GHhtUcIJAzCy"
   },
   "outputs": [],
   "source": [
    "df['MinTemp']=df['MinTemp'].fillna(df['MinTemp'].mean())\n",
    "df['MaxTemp']=df['MaxTemp'].fillna(df['MaxTemp'].mean())\n",
    "df['Rainfall']=df['Rainfall'].fillna(df['Rainfall'].mean())\n",
    "df['Evaporation']=df['Evaporation'].fillna(df['Evaporation'].mean())\n",
    "df['Sunshine']=df['Sunshine'].fillna(df['Sunshine'].mean())\n",
    "df['WindGustSpeed']=df['WindGustSpeed'].fillna(df['WindGustSpeed'].mean())\n",
    "df['WindSpeed9am']=df['WindSpeed9am'].fillna(df['WindSpeed9am'].mean())\n",
    "df['WindSpeed3pm']=df['WindSpeed3pm'].fillna(df['WindSpeed3pm'].mean())\n",
    "df['Humidity9am']=df['Humidity9am'].fillna(df['Humidity9am'].mean())\n",
    "df['Humidity3pm']=df['Humidity3pm'].fillna(df['Humidity3pm'].mean())\n",
    "df['Pressure9am']=df['Pressure9am'].fillna(df['Pressure9am'].mean())\n",
    "df['Pressure3pm']=df['Pressure3pm'].fillna(df['Pressure3pm'].mean())\n",
    "df['Cloud9am']=df['Cloud9am'].fillna(df['Cloud9am'].mean())\n",
    "df['Cloud3pm']=df['Cloud3pm'].fillna(df['Cloud3pm'].mean())\n",
    "df['Temp9am']=df['Temp9am'].fillna(df['Temp9am'].mean())\n",
    "df['Temp3pm']=df['Temp3pm'].fillna(df['Temp3pm'].mean())"
   ]
  },
  {
   "cell_type": "markdown",
   "metadata": {
    "id": "xpIlMW0BA6Hp"
   },
   "source": [
    "Kemudian kita mengisi variabel categoricals yang memiliki nilai null dengan mode."
   ]
  },
  {
   "cell_type": "code",
   "execution_count": 12,
   "metadata": {
    "ExecuteTime": {
     "end_time": "2022-05-13T06:38:36.682065Z",
     "start_time": "2022-05-13T06:38:36.399856Z"
    },
    "id": "ytPl67y8A_Mc"
   },
   "outputs": [],
   "source": [
    "df['RainToday']=df['RainToday'].fillna(df['RainToday'].mode()[0])\n",
    "df['RainTomorrow']=df['RainTomorrow'].fillna(df['RainTomorrow'].mode()[0])\n",
    "df['WindDir9am'] = df['WindDir9am'].fillna(df['WindDir9am'].mode()[0])\n",
    "df['WindGustDir'] = df['WindGustDir'].fillna(df['WindGustDir'].mode()[0])\n",
    "df['WindDir3pm'] = df['WindDir3pm'].fillna(df['WindDir3pm'].mode()[0])"
   ]
  },
  {
   "cell_type": "code",
   "execution_count": 13,
   "metadata": {
    "ExecuteTime": {
     "end_time": "2022-05-13T06:38:36.937428Z",
     "start_time": "2022-05-13T06:38:36.692202Z"
    },
    "colab": {
     "base_uri": "https://localhost:8080/"
    },
    "executionInfo": {
     "elapsed": 20,
     "status": "ok",
     "timestamp": 1652325584056,
     "user": {
      "displayName": "Roikhatul Miskiyah",
      "userId": "03775508799116692671"
     },
     "user_tz": -420
    },
    "id": "w6AT8nBTxzbX",
    "outputId": "89395da2-e3f2-4e54-f5e1-7c275d268487"
   },
   "outputs": [
    {
     "data": {
      "text/plain": [
       "0"
      ]
     },
     "execution_count": 13,
     "metadata": {},
     "output_type": "execute_result"
    }
   ],
   "source": [
    "df.isnull().sum().sum()"
   ]
  },
  {
   "cell_type": "code",
   "execution_count": 14,
   "metadata": {
    "ExecuteTime": {
     "end_time": "2022-05-13T06:38:37.141615Z",
     "start_time": "2022-05-13T06:38:36.946041Z"
    },
    "colab": {
     "base_uri": "https://localhost:8080/"
    },
    "executionInfo": {
     "elapsed": 16,
     "status": "ok",
     "timestamp": 1652325584056,
     "user": {
      "displayName": "Roikhatul Miskiyah",
      "userId": "03775508799116692671"
     },
     "user_tz": -420
    },
    "id": "qtcnZ4nZyDqu",
    "outputId": "afc3ad76-6d4a-48ba-c88e-652df231e096"
   },
   "outputs": [
    {
     "data": {
      "text/plain": [
       "Date             0\n",
       "Location         0\n",
       "MinTemp          0\n",
       "MaxTemp          0\n",
       "Rainfall         0\n",
       "Evaporation      0\n",
       "Sunshine         0\n",
       "WindGustDir      0\n",
       "WindGustSpeed    0\n",
       "WindDir9am       0\n",
       "WindDir3pm       0\n",
       "WindSpeed9am     0\n",
       "WindSpeed3pm     0\n",
       "Humidity9am      0\n",
       "Humidity3pm      0\n",
       "Pressure9am      0\n",
       "Pressure3pm      0\n",
       "Cloud9am         0\n",
       "Cloud3pm         0\n",
       "Temp9am          0\n",
       "Temp3pm          0\n",
       "RainToday        0\n",
       "RainTomorrow     0\n",
       "dtype: int64"
      ]
     },
     "execution_count": 14,
     "metadata": {},
     "output_type": "execute_result"
    }
   ],
   "source": [
    "df.isnull().sum()"
   ]
  },
  {
   "cell_type": "markdown",
   "metadata": {
    "id": "fz5NVYBqHjsd"
   },
   "source": [
    "Memverifikasi duplikasi dari dataset"
   ]
  },
  {
   "cell_type": "code",
   "execution_count": 15,
   "metadata": {
    "ExecuteTime": {
     "end_time": "2022-05-13T06:38:37.951328Z",
     "start_time": "2022-05-13T06:38:37.147694Z"
    },
    "colab": {
     "base_uri": "https://localhost:8080/"
    },
    "executionInfo": {
     "elapsed": 15,
     "status": "ok",
     "timestamp": 1652325584057,
     "user": {
      "displayName": "Roikhatul Miskiyah",
      "userId": "03775508799116692671"
     },
     "user_tz": -420
    },
    "id": "Gy6yixHEHmtI",
    "outputId": "3acc979b-643c-4e66-9bb5-47041337ae4e"
   },
   "outputs": [
    {
     "name": "stdout",
     "output_type": "stream",
     "text": [
      "0         False\n",
      "1         False\n",
      "2         False\n",
      "3         False\n",
      "4         False\n",
      "          ...  \n",
      "145455    False\n",
      "145456    False\n",
      "145457    False\n",
      "145458    False\n",
      "145459    False\n",
      "Length: 145460, dtype: bool\n"
     ]
    }
   ],
   "source": [
    "dup = df.duplicated()\n",
    "print(dup)"
   ]
  },
  {
   "cell_type": "code",
   "execution_count": 16,
   "metadata": {
    "ExecuteTime": {
     "end_time": "2022-05-13T06:38:37.975142Z",
     "start_time": "2022-05-13T06:38:37.960450Z"
    },
    "colab": {
     "base_uri": "https://localhost:8080/"
    },
    "executionInfo": {
     "elapsed": 12,
     "status": "ok",
     "timestamp": 1652325584057,
     "user": {
      "displayName": "Roikhatul Miskiyah",
      "userId": "03775508799116692671"
     },
     "user_tz": -420
    },
    "id": "wB65fQabHqUv",
    "outputId": "99a90b4b-81d7-448e-f9c1-7671f748568d"
   },
   "outputs": [
    {
     "name": "stdout",
     "output_type": "stream",
     "text": [
      "False\n"
     ]
    }
   ],
   "source": [
    "print(dup.any())"
   ]
  },
  {
   "cell_type": "markdown",
   "metadata": {
    "id": "X-J37nXJHvUf"
   },
   "source": [
    "Hasil di atas menunjukkan bahwa tidak terdapat duplikasi data."
   ]
  },
  {
   "cell_type": "markdown",
   "metadata": {
    "id": "Ii2zzAcdcepO"
   },
   "source": [
    "## E. Eksplorasi Data"
   ]
  },
  {
   "cell_type": "code",
   "execution_count": 17,
   "metadata": {
    "ExecuteTime": {
     "end_time": "2022-05-13T06:38:47.806290Z",
     "start_time": "2022-05-13T06:38:37.981223Z"
    },
    "colab": {
     "base_uri": "https://localhost:8080/",
     "height": 351
    },
    "executionInfo": {
     "elapsed": 4880,
     "status": "ok",
     "timestamp": 1652325588928,
     "user": {
      "displayName": "Roikhatul Miskiyah",
      "userId": "03775508799116692671"
     },
     "user_tz": -420
    },
    "id": "o-On4Qij8RmT",
    "outputId": "e3b6e973-f194-44b4-8c57-db89f03687cf"
   },
   "outputs": [
    {
     "data": {
      "image/png": "[encoded data removed]",
      "text/plain": [
       "<Figure size 432x288 with 2 Axes>"
      ]
     },
     "metadata": {
      "needs_background": "light"
     },
     "output_type": "display_data"
    }
   ],
   "source": [
    "sns.heatmap(df.isnull());"
   ]
  },
  {
   "cell_type": "markdown",
   "metadata": {
    "id": "aQMuT_rk91su"
   },
   "source": [
    "Kemudian memverifikasi variabel target, di sini kita dapat melihat hitungan jika kita memiliki lebih banyak hujan."
   ]
  },
  {
   "cell_type": "code",
   "execution_count": 18,
   "metadata": {
    "ExecuteTime": {
     "end_time": "2022-05-13T06:38:49.451002Z",
     "start_time": "2022-05-13T06:38:47.814904Z"
    },
    "colab": {
     "base_uri": "https://localhost:8080/",
     "height": 382
    },
    "executionInfo": {
     "elapsed": 1077,
     "status": "ok",
     "timestamp": 1652325589992,
     "user": {
      "displayName": "Roikhatul Miskiyah",
      "userId": "03775508799116692671"
     },
     "user_tz": -420
    },
    "id": "UHkwNNtr6rM1",
    "outputId": "731c83a6-e360-4dde-e2d7-a019b23ba6d8"
   },
   "outputs": [
    {
     "data": {
      "text/plain": [
       "<seaborn.axisgrid.FacetGrid at 0x1f377c56760>"
      ]
     },
     "execution_count": 18,
     "metadata": {},
     "output_type": "execute_result"
    },
    {
     "data": {
      "image/png": "[encoded data removed]",
      "text/plain": [
       "<Figure size 360x360 with 1 Axes>"
      ]
     },
     "metadata": {
      "needs_background": "light"
     },
     "output_type": "display_data"
    }
   ],
   "source": [
    "sns.catplot(x = 'RainTomorrow', kind = 'count', data = df)"
   ]
  },
  {
   "cell_type": "code",
   "execution_count": 19,
   "metadata": {
    "ExecuteTime": {
     "end_time": "2022-05-13T06:38:49.518894Z",
     "start_time": "2022-05-13T06:38:49.462656Z"
    },
    "colab": {
     "base_uri": "https://localhost:8080/"
    },
    "executionInfo": {
     "elapsed": 14,
     "status": "ok",
     "timestamp": 1652325589992,
     "user": {
      "displayName": "Roikhatul Miskiyah",
      "userId": "03775508799116692671"
     },
     "user_tz": -420
    },
    "id": "sqweOdor6tlX",
    "outputId": "f09eb365-829b-49c2-a9c9-f1956a1a7c8a"
   },
   "outputs": [
    {
     "data": {
      "text/plain": [
       "No     113583\n",
       "Yes     31877\n",
       "Name: RainTomorrow, dtype: int64"
      ]
     },
     "execution_count": 19,
     "metadata": {},
     "output_type": "execute_result"
    }
   ],
   "source": [
    "df['RainTomorrow'].value_counts()"
   ]
  },
  {
   "cell_type": "markdown",
   "metadata": {
    "id": "bK3kFAkf-Ptp"
   },
   "source": [
    "Memverifikasi korelasi antara variabel"
   ]
  },
  {
   "cell_type": "code",
   "execution_count": 20,
   "metadata": {
    "ExecuteTime": {
     "end_time": "2022-05-13T06:38:54.942830Z",
     "start_time": "2022-05-13T06:38:49.530043Z"
    },
    "colab": {
     "base_uri": "https://localhost:8080/",
     "height": 920
    },
    "executionInfo": {
     "elapsed": 1406,
     "status": "ok",
     "timestamp": 1652325591388,
     "user": {
      "displayName": "Roikhatul Miskiyah",
      "userId": "03775508799116692671"
     },
     "user_tz": -420
    },
    "id": "kLyxdmnM6lwV",
    "outputId": "ab3c5ce7-06a6-4ade-c7fc-bdbdd360fac0"
   },
   "outputs": [
    {
     "data": {
      "image/png": "[encoded data removed]",
      "text/plain": [
       "<Figure size 1224x1080 with 2 Axes>"
      ]
     },
     "metadata": {
      "needs_background": "light"
     },
     "output_type": "display_data"
    }
   ],
   "source": [
    "plt.figure(figsize=(17,15))\n",
    "correlacao = sns.heatmap(df.corr(), square=True, annot=True)\n",
    "correlacao.set_xticklabels(correlacao.get_xticklabels(), rotation=90)          \n",
    "plt.show()"
   ]
  },
  {
   "cell_type": "markdown",
   "metadata": {
    "id": "lEx0TexJ-bje"
   },
   "source": [
    "Memverifikasi distribusi variabel MinTemp, di sini kita dapat melihat bahwa rata-rata suhu minimum di Australia adalah antara 8 dan 12 derajat."
   ]
  },
  {
   "cell_type": "code",
   "execution_count": 21,
   "metadata": {
    "ExecuteTime": {
     "end_time": "2022-05-13T06:38:56.437497Z",
     "start_time": "2022-05-13T06:38:54.948912Z"
    },
    "colab": {
     "base_uri": "https://localhost:8080/",
     "height": 357
    },
    "executionInfo": {
     "elapsed": 894,
     "status": "ok",
     "timestamp": 1652325592266,
     "user": {
      "displayName": "Roikhatul Miskiyah",
      "userId": "03775508799116692671"
     },
     "user_tz": -420
    },
    "id": "O6JAAJtf-oPn",
    "outputId": "d3d57fce-c8e4-4410-e84a-cb52fc32adcc"
   },
   "outputs": [
    {
     "name": "stderr",
     "output_type": "stream",
     "text": [
      "C:\\users\\zhafran\\appdata\\local\\programs\\python\\python39\\lib\\site-packages\\seaborn\\distributions.py:2619: FutureWarning: `distplot` is a deprecated function and will be removed in a future version. Please adapt your code to use either `displot` (a figure-level function with similar flexibility) or `histplot` (an axes-level function for histograms).\n",
      "  warnings.warn(msg, FutureWarning)\n"
     ]
    },
    {
     "data": {
      "text/plain": [
       "<AxesSubplot:xlabel='MinTemp'>"
      ]
     },
     "execution_count": 21,
     "metadata": {},
     "output_type": "execute_result"
    },
    {
     "data": {
      "image/png": "[encoded data removed]",
      "text/plain": [
       "<Figure size 432x288 with 1 Axes>"
      ]
     },
     "metadata": {},
     "output_type": "display_data"
    }
   ],
   "source": [
    "sns.set(color_codes = True)\n",
    "sns.distplot(df.MinTemp, kde = False)"
   ]
  },
  {
   "cell_type": "markdown",
   "metadata": {
    "id": "WiK5kVRb-x6T"
   },
   "source": [
    "Memverifikasi distribusi variabel MaxTemp, di sini kita dapat melihat bahwa rata-rata suhu maksimum di Australia adalah antara 20 dan 23 derajat."
   ]
  },
  {
   "cell_type": "code",
   "execution_count": 22,
   "metadata": {
    "ExecuteTime": {
     "end_time": "2022-05-13T06:38:57.962588Z",
     "start_time": "2022-05-13T06:38:56.448137Z"
    },
    "colab": {
     "base_uri": "https://localhost:8080/",
     "height": 357
    },
    "executionInfo": {
     "elapsed": 27,
     "status": "ok",
     "timestamp": 1652325592267,
     "user": {
      "displayName": "Roikhatul Miskiyah",
      "userId": "03775508799116692671"
     },
     "user_tz": -420
    },
    "id": "cgIbCs58-5Bd",
    "outputId": "61c38da7-f064-4fb4-c69e-af802958ad3e"
   },
   "outputs": [
    {
     "data": {
      "text/plain": [
       "<AxesSubplot:xlabel='MaxTemp'>"
      ]
     },
     "execution_count": 22,
     "metadata": {},
     "output_type": "execute_result"
    },
    {
     "data": {
      "image/png": "[encoded data removed]",
      "text/plain": [
       "<Figure size 432x288 with 1 Axes>"
      ]
     },
     "metadata": {},
     "output_type": "display_data"
    }
   ],
   "source": [
    "sns.set(color_codes = True)\n",
    "sns.distplot(df.MaxTemp, kde = False)"
   ]
  },
  {
   "cell_type": "markdown",
   "metadata": {
    "id": "eArMMYTK_Dqw"
   },
   "source": [
    "Memeriksa korelasi variabel MaxTemp dan MinTemp, kita dapat melihat bahwa ketika data memiliki suhu tinggi, hasilnya lebih umum tidak hujan di hari berikutnya."
   ]
  },
  {
   "cell_type": "code",
   "execution_count": 23,
   "metadata": {
    "ExecuteTime": {
     "end_time": "2022-05-13T06:39:28.779387Z",
     "start_time": "2022-05-13T06:38:57.970698Z"
    },
    "colab": {
     "base_uri": "https://localhost:8080/",
     "height": 382
    },
    "executionInfo": {
     "elapsed": 14260,
     "status": "ok",
     "timestamp": 1652325606508,
     "user": {
      "displayName": "Roikhatul Miskiyah",
      "userId": "03775508799116692671"
     },
     "user_tz": -420
    },
    "id": "SPR0vDCK_NUR",
    "outputId": "65a34c51-5db2-45ac-907f-82db9c4bfbc9"
   },
   "outputs": [
    {
     "data": {
      "text/plain": [
       "<seaborn.axisgrid.FacetGrid at 0x1f3021f7e80>"
      ]
     },
     "execution_count": 23,
     "metadata": {},
     "output_type": "execute_result"
    },
    {
     "data": {
      "image/png": "[encoded data removed]",
      "text/plain": [
       "<Figure size 445.8x360 with 1 Axes>"
      ]
     },
     "metadata": {},
     "output_type": "display_data"
    }
   ],
   "source": [
    "sns.relplot(x='MinTemp', y = 'MaxTemp', hue = \"RainTomorrow\", data = df)"
   ]
  },
  {
   "cell_type": "markdown",
   "metadata": {
    "id": "bki-czpp_SyV"
   },
   "source": [
    "Memeriksa korelasi variabel MaxTemp dan Sunshine, kita dapat melihat bahwa ketika data memiliki suhu tinggi di Sunshine, lebih umum tidak hujan di hari berikutnya."
   ]
  },
  {
   "cell_type": "code",
   "execution_count": 24,
   "metadata": {
    "ExecuteTime": {
     "end_time": "2022-05-13T06:40:05.626328Z",
     "start_time": "2022-05-13T06:39:28.779387Z"
    },
    "colab": {
     "base_uri": "https://localhost:8080/",
     "height": 382
    },
    "executionInfo": {
     "elapsed": 13470,
     "status": "ok",
     "timestamp": 1652325619956,
     "user": {
      "displayName": "Roikhatul Miskiyah",
      "userId": "03775508799116692671"
     },
     "user_tz": -420
    },
    "id": "YAuWbQFN_NG6",
    "outputId": "9bffd1ef-885a-4c9a-867a-d5d87cf437f0"
   },
   "outputs": [
    {
     "data": {
      "text/plain": [
       "<seaborn.axisgrid.FacetGrid at 0x1f302158880>"
      ]
     },
     "execution_count": 24,
     "metadata": {},
     "output_type": "execute_result"
    },
    {
     "data": {
      "image/png": "[encoded data removed]",
      "text/plain": [
       "<Figure size 445.8x360 with 1 Axes>"
      ]
     },
     "metadata": {},
     "output_type": "display_data"
    }
   ],
   "source": [
    "sns.relplot(x='Sunshine', y = 'MaxTemp', hue = \"RainTomorrow\", data = df)"
   ]
  },
  {
   "cell_type": "markdown",
   "metadata": {
    "id": "tJehTOVX_hOG"
   },
   "source": [
    "Memeriksa korelasi variabel RainTomorrow dan MinTemp, kita dapat melihat bahwa data memiliki sedikit perbedaan antara MinTemp dan akankah hujan turun pada hari berikutnya."
   ]
  },
  {
   "cell_type": "code",
   "execution_count": 25,
   "metadata": {
    "ExecuteTime": {
     "end_time": "2022-05-13T06:40:07.310487Z",
     "start_time": "2022-05-13T06:40:05.632917Z"
    },
    "colab": {
     "base_uri": "https://localhost:8080/",
     "height": 382
    },
    "executionInfo": {
     "elapsed": 992,
     "status": "ok",
     "timestamp": 1652325620912,
     "user": {
      "displayName": "Roikhatul Miskiyah",
      "userId": "03775508799116692671"
     },
     "user_tz": -420
    },
    "id": "gNwmyMMd_tmL",
    "outputId": "895ac8b7-1fb0-48a7-ebec-9210b2cd414a"
   },
   "outputs": [
    {
     "data": {
      "text/plain": [
       "<seaborn.axisgrid.FacetGrid at 0x1f30224d3d0>"
      ]
     },
     "execution_count": 25,
     "metadata": {},
     "output_type": "execute_result"
    },
    {
     "data": {
      "image/png": "[encoded data removed]",
      "text/plain": [
       "<Figure size 360x360 with 1 Axes>"
      ]
     },
     "metadata": {},
     "output_type": "display_data"
    }
   ],
   "source": [
    "sns.catplot(x = 'RainTomorrow', y=\"MinTemp\", kind=\"box\", data = df)"
   ]
  },
  {
   "cell_type": "markdown",
   "metadata": {
    "id": "6T-Ylzo-_0Zq"
   },
   "source": [
    "Memeriksa korelasi variabel RainTomorrow dan MaxTemp, kita dapat melihat bahwa data memiliki sedikit perbedaan ketika memiliki suhu yang lebih tinggi, itu mempengaruhi apakah akan hujan di hari berikutnya atau tidak."
   ]
  },
  {
   "cell_type": "code",
   "execution_count": 26,
   "metadata": {
    "ExecuteTime": {
     "end_time": "2022-05-13T06:40:09.170457Z",
     "start_time": "2022-05-13T06:40:07.317581Z"
    },
    "colab": {
     "base_uri": "https://localhost:8080/",
     "height": 382
    },
    "executionInfo": {
     "elapsed": 74,
     "status": "ok",
     "timestamp": 1652325620914,
     "user": {
      "displayName": "Roikhatul Miskiyah",
      "userId": "03775508799116692671"
     },
     "user_tz": -420
    },
    "id": "r5RiBfJr_8p3",
    "outputId": "2169b69f-f6dd-44a3-80b4-076d7ffd063e"
   },
   "outputs": [
    {
     "data": {
      "text/plain": [
       "<seaborn.axisgrid.FacetGrid at 0x1f3023cd8b0>"
      ]
     },
     "execution_count": 26,
     "metadata": {},
     "output_type": "execute_result"
    },
    {
     "data": {
      "image/png": "[encoded data removed]",
      "text/plain": [
       "<Figure size 360x360 with 1 Axes>"
      ]
     },
     "metadata": {},
     "output_type": "display_data"
    }
   ],
   "source": [
    "sns.catplot(x = 'RainTomorrow', y=\"MaxTemp\", kind=\"box\", data = df)"
   ]
  },
  {
   "cell_type": "markdown",
   "metadata": {
    "id": "J-dVP7vIclxd"
   },
   "source": [
    "## F. Data Preprocessing\n"
   ]
  },
  {
   "cell_type": "markdown",
   "metadata": {
    "id": "3v3W92E7JEh_"
   },
   "source": [
    "Memeriksa kolerasi dari fitur yang berkaitan dengan rain tomorrow"
   ]
  },
  {
   "cell_type": "code",
   "execution_count": 27,
   "metadata": {
    "ExecuteTime": {
     "end_time": "2022-05-13T06:40:09.186673Z",
     "start_time": "2022-05-13T06:40:09.179075Z"
    },
    "id": "RbRd8n3yL-If"
   },
   "outputs": [],
   "source": [
    "# Fitur yang merupakan variabel categorical\n",
    "vab_categori = ['RainToday', 'RainTomorrow', 'WindDir9am', 'WindGustDir', 'WindDir3pm']"
   ]
  },
  {
   "cell_type": "code",
   "execution_count": 28,
   "metadata": {
    "ExecuteTime": {
     "end_time": "2022-05-13T06:40:09.376674Z",
     "start_time": "2022-05-13T06:40:09.205926Z"
    },
    "colab": {
     "base_uri": "https://localhost:8080/",
     "height": 206
    },
    "executionInfo": {
     "elapsed": 76,
     "status": "ok",
     "timestamp": 1652325620922,
     "user": {
      "displayName": "Roikhatul Miskiyah",
      "userId": "03775508799116692671"
     },
     "user_tz": -420
    },
    "id": "xzw01lrXMaNG",
    "outputId": "57bb740f-44d7-499f-cc0d-b1c389adf90c"
   },
   "outputs": [
    {
     "data": {
      "text/html": [
       "<div>\n",
       "<style scoped>\n",
       "    .dataframe tbody tr th:only-of-type {\n",
       "        vertical-align: middle;\n",
       "    }\n",
       "\n",
       "    .dataframe tbody tr th {\n",
       "        vertical-align: top;\n",
       "    }\n",
       "\n",
       "    .dataframe thead th {\n",
       "        text-align: right;\n",
       "    }\n",
       "</style>\n",
       "<table border=\"1\" class=\"dataframe\">\n",
       "  <thead>\n",
       "    <tr style=\"text-align: right;\">\n",
       "      <th></th>\n",
       "      <th>RainToday</th>\n",
       "      <th>RainTomorrow</th>\n",
       "      <th>WindDir9am</th>\n",
       "      <th>WindGustDir</th>\n",
       "      <th>WindDir3pm</th>\n",
       "    </tr>\n",
       "  </thead>\n",
       "  <tbody>\n",
       "    <tr>\n",
       "      <th>0</th>\n",
       "      <td>No</td>\n",
       "      <td>No</td>\n",
       "      <td>W</td>\n",
       "      <td>W</td>\n",
       "      <td>WNW</td>\n",
       "    </tr>\n",
       "    <tr>\n",
       "      <th>1</th>\n",
       "      <td>No</td>\n",
       "      <td>No</td>\n",
       "      <td>NNW</td>\n",
       "      <td>WNW</td>\n",
       "      <td>WSW</td>\n",
       "    </tr>\n",
       "    <tr>\n",
       "      <th>2</th>\n",
       "      <td>No</td>\n",
       "      <td>No</td>\n",
       "      <td>W</td>\n",
       "      <td>WSW</td>\n",
       "      <td>WSW</td>\n",
       "    </tr>\n",
       "    <tr>\n",
       "      <th>3</th>\n",
       "      <td>No</td>\n",
       "      <td>No</td>\n",
       "      <td>SE</td>\n",
       "      <td>NE</td>\n",
       "      <td>E</td>\n",
       "    </tr>\n",
       "    <tr>\n",
       "      <th>4</th>\n",
       "      <td>No</td>\n",
       "      <td>No</td>\n",
       "      <td>ENE</td>\n",
       "      <td>W</td>\n",
       "      <td>NW</td>\n",
       "    </tr>\n",
       "  </tbody>\n",
       "</table>\n",
       "</div>"
      ],
      "text/plain": [
       "  RainToday RainTomorrow WindDir9am WindGustDir WindDir3pm\n",
       "0        No           No          W           W        WNW\n",
       "1        No           No        NNW         WNW        WSW\n",
       "2        No           No          W         WSW        WSW\n",
       "3        No           No         SE          NE          E\n",
       "4        No           No        ENE           W         NW"
      ]
     },
     "execution_count": 28,
     "metadata": {},
     "output_type": "execute_result"
    }
   ],
   "source": [
    "df_categori = df[vab_categori]\n",
    "df_categori.head()"
   ]
  },
  {
   "cell_type": "code",
   "execution_count": 29,
   "metadata": {
    "ExecuteTime": {
     "end_time": "2022-05-13T06:40:10.110349Z",
     "start_time": "2022-05-13T06:40:09.386807Z"
    },
    "colab": {
     "base_uri": "https://localhost:8080/",
     "height": 423
    },
    "executionInfo": {
     "elapsed": 75,
     "status": "ok",
     "timestamp": 1652325620926,
     "user": {
      "displayName": "Roikhatul Miskiyah",
      "userId": "03775508799116692671"
     },
     "user_tz": -420
    },
    "id": "wPDdd0JsMi64",
    "outputId": "6dab5341-1fee-486b-ac6a-e980eb4bf423"
   },
   "outputs": [
    {
     "data": {
      "text/html": [
       "<div>\n",
       "<style scoped>\n",
       "    .dataframe tbody tr th:only-of-type {\n",
       "        vertical-align: middle;\n",
       "    }\n",
       "\n",
       "    .dataframe tbody tr th {\n",
       "        vertical-align: top;\n",
       "    }\n",
       "\n",
       "    .dataframe thead th {\n",
       "        text-align: right;\n",
       "    }\n",
       "</style>\n",
       "<table border=\"1\" class=\"dataframe\">\n",
       "  <thead>\n",
       "    <tr style=\"text-align: right;\">\n",
       "      <th></th>\n",
       "      <th>RainToday</th>\n",
       "      <th>RainTomorrow</th>\n",
       "      <th>WindDir9am</th>\n",
       "      <th>WindGustDir</th>\n",
       "      <th>WindDir3pm</th>\n",
       "    </tr>\n",
       "  </thead>\n",
       "  <tbody>\n",
       "    <tr>\n",
       "      <th>0</th>\n",
       "      <td>0</td>\n",
       "      <td>0</td>\n",
       "      <td>13</td>\n",
       "      <td>13</td>\n",
       "      <td>14</td>\n",
       "    </tr>\n",
       "    <tr>\n",
       "      <th>1</th>\n",
       "      <td>0</td>\n",
       "      <td>0</td>\n",
       "      <td>6</td>\n",
       "      <td>14</td>\n",
       "      <td>15</td>\n",
       "    </tr>\n",
       "    <tr>\n",
       "      <th>2</th>\n",
       "      <td>0</td>\n",
       "      <td>0</td>\n",
       "      <td>13</td>\n",
       "      <td>15</td>\n",
       "      <td>15</td>\n",
       "    </tr>\n",
       "    <tr>\n",
       "      <th>3</th>\n",
       "      <td>0</td>\n",
       "      <td>0</td>\n",
       "      <td>9</td>\n",
       "      <td>4</td>\n",
       "      <td>0</td>\n",
       "    </tr>\n",
       "    <tr>\n",
       "      <th>4</th>\n",
       "      <td>0</td>\n",
       "      <td>0</td>\n",
       "      <td>1</td>\n",
       "      <td>13</td>\n",
       "      <td>7</td>\n",
       "    </tr>\n",
       "    <tr>\n",
       "      <th>...</th>\n",
       "      <td>...</td>\n",
       "      <td>...</td>\n",
       "      <td>...</td>\n",
       "      <td>...</td>\n",
       "      <td>...</td>\n",
       "    </tr>\n",
       "    <tr>\n",
       "      <th>145455</th>\n",
       "      <td>0</td>\n",
       "      <td>0</td>\n",
       "      <td>9</td>\n",
       "      <td>0</td>\n",
       "      <td>1</td>\n",
       "    </tr>\n",
       "    <tr>\n",
       "      <th>145456</th>\n",
       "      <td>0</td>\n",
       "      <td>0</td>\n",
       "      <td>9</td>\n",
       "      <td>6</td>\n",
       "      <td>3</td>\n",
       "    </tr>\n",
       "    <tr>\n",
       "      <th>145457</th>\n",
       "      <td>0</td>\n",
       "      <td>0</td>\n",
       "      <td>9</td>\n",
       "      <td>3</td>\n",
       "      <td>14</td>\n",
       "    </tr>\n",
       "    <tr>\n",
       "      <th>145458</th>\n",
       "      <td>0</td>\n",
       "      <td>0</td>\n",
       "      <td>10</td>\n",
       "      <td>9</td>\n",
       "      <td>3</td>\n",
       "    </tr>\n",
       "    <tr>\n",
       "      <th>145459</th>\n",
       "      <td>0</td>\n",
       "      <td>0</td>\n",
       "      <td>2</td>\n",
       "      <td>13</td>\n",
       "      <td>2</td>\n",
       "    </tr>\n",
       "  </tbody>\n",
       "</table>\n",
       "<p>145460 rows × 5 columns</p>\n",
       "</div>"
      ],
      "text/plain": [
       "        RainToday  RainTomorrow  WindDir9am  WindGustDir  WindDir3pm\n",
       "0               0             0          13           13          14\n",
       "1               0             0           6           14          15\n",
       "2               0             0          13           15          15\n",
       "3               0             0           9            4           0\n",
       "4               0             0           1           13           7\n",
       "...           ...           ...         ...          ...         ...\n",
       "145455          0             0           9            0           1\n",
       "145456          0             0           9            6           3\n",
       "145457          0             0           9            3          14\n",
       "145458          0             0          10            9           3\n",
       "145459          0             0           2           13           2\n",
       "\n",
       "[145460 rows x 5 columns]"
      ]
     },
     "execution_count": 29,
     "metadata": {},
     "output_type": "execute_result"
    }
   ],
   "source": [
    "from sklearn import preprocessing\n",
    "le = preprocessing.LabelEncoder()\n",
    "\n",
    "df_cat_encode= df_categori.copy()\n",
    "for col in df_cat_encode.select_dtypes(include='O').columns:\n",
    "    df_cat_encode[col]=le.fit_transform(df_cat_encode[col])\n",
    "\n",
    "df_cat_encode"
   ]
  },
  {
   "cell_type": "code",
   "execution_count": 30,
   "metadata": {
    "ExecuteTime": {
     "end_time": "2022-05-13T06:40:11.272169Z",
     "start_time": "2022-05-13T06:40:10.120484Z"
    },
    "colab": {
     "base_uri": "https://localhost:8080/",
     "height": 615
    },
    "executionInfo": {
     "elapsed": 771,
     "status": "ok",
     "timestamp": 1652325621628,
     "user": {
      "displayName": "Roikhatul Miskiyah",
      "userId": "03775508799116692671"
     },
     "user_tz": -420
    },
    "id": "hgMprcraM8bw",
    "outputId": "99425858-bafa-48ec-fc26-2567ee19c2d8"
   },
   "outputs": [
    {
     "data": {
      "text/plain": [
       "<AxesSubplot:>"
      ]
     },
     "execution_count": 30,
     "metadata": {},
     "output_type": "execute_result"
    },
    {
     "data": {
      "image/png": "[encoded data removed]",
      "text/plain": [
       "<Figure size 1440x720 with 2 Axes>"
      ]
     },
     "metadata": {},
     "output_type": "display_data"
    }
   ],
   "source": [
    "plt.figure(figsize=(20,10))\n",
    "sns.heatmap(df_cat_encode.corr(),annot=True)"
   ]
  },
  {
   "cell_type": "code",
   "execution_count": 31,
   "metadata": {
    "ExecuteTime": {
     "end_time": "2022-05-13T06:40:11.288888Z",
     "start_time": "2022-05-13T06:40:11.278248Z"
    },
    "id": "5R66l3K9IXhI"
   },
   "outputs": [],
   "source": [
    "# Fitur yang merupakan variabel kontinu\n",
    "vab_continu = ['Temp9am', 'Cloud9am', 'Pressure9am', 'Humidity9am', 'WindSpeed3pm', 'WindSpeed9am', 'Sunshine', 'Rainfall', 'MinTemp', 'RainTomorrow']"
   ]
  },
  {
   "cell_type": "code",
   "execution_count": 32,
   "metadata": {
    "ExecuteTime": {
     "end_time": "2022-05-13T06:40:11.506754Z",
     "start_time": "2022-05-13T06:40:11.295981Z"
    },
    "colab": {
     "base_uri": "https://localhost:8080/",
     "height": 206
    },
    "executionInfo": {
     "elapsed": 148,
     "status": "ok",
     "timestamp": 1652325621673,
     "user": {
      "displayName": "Roikhatul Miskiyah",
      "userId": "03775508799116692671"
     },
     "user_tz": -420
    },
    "id": "AHRS7MWhKdtQ",
    "outputId": "c44f4dfe-3378-46b0-c9f6-f1d6e0e015e1"
   },
   "outputs": [
    {
     "data": {
      "text/html": [
       "<div>\n",
       "<style scoped>\n",
       "    .dataframe tbody tr th:only-of-type {\n",
       "        vertical-align: middle;\n",
       "    }\n",
       "\n",
       "    .dataframe tbody tr th {\n",
       "        vertical-align: top;\n",
       "    }\n",
       "\n",
       "    .dataframe thead th {\n",
       "        text-align: right;\n",
       "    }\n",
       "</style>\n",
       "<table border=\"1\" class=\"dataframe\">\n",
       "  <thead>\n",
       "    <tr style=\"text-align: right;\">\n",
       "      <th></th>\n",
       "      <th>Temp9am</th>\n",
       "      <th>Cloud9am</th>\n",
       "      <th>Pressure9am</th>\n",
       "      <th>Humidity9am</th>\n",
       "      <th>WindSpeed3pm</th>\n",
       "      <th>WindSpeed9am</th>\n",
       "      <th>Sunshine</th>\n",
       "      <th>Rainfall</th>\n",
       "      <th>MinTemp</th>\n",
       "      <th>RainTomorrow</th>\n",
       "    </tr>\n",
       "  </thead>\n",
       "  <tbody>\n",
       "    <tr>\n",
       "      <th>0</th>\n",
       "      <td>16.9</td>\n",
       "      <td>8.000000</td>\n",
       "      <td>1007.7</td>\n",
       "      <td>71.0</td>\n",
       "      <td>24.0</td>\n",
       "      <td>20.0</td>\n",
       "      <td>7.611178</td>\n",
       "      <td>0.6</td>\n",
       "      <td>13.4</td>\n",
       "      <td>No</td>\n",
       "    </tr>\n",
       "    <tr>\n",
       "      <th>1</th>\n",
       "      <td>17.2</td>\n",
       "      <td>4.447461</td>\n",
       "      <td>1010.6</td>\n",
       "      <td>44.0</td>\n",
       "      <td>22.0</td>\n",
       "      <td>4.0</td>\n",
       "      <td>7.611178</td>\n",
       "      <td>0.0</td>\n",
       "      <td>7.4</td>\n",
       "      <td>No</td>\n",
       "    </tr>\n",
       "    <tr>\n",
       "      <th>2</th>\n",
       "      <td>21.0</td>\n",
       "      <td>4.447461</td>\n",
       "      <td>1007.6</td>\n",
       "      <td>38.0</td>\n",
       "      <td>26.0</td>\n",
       "      <td>19.0</td>\n",
       "      <td>7.611178</td>\n",
       "      <td>0.0</td>\n",
       "      <td>12.9</td>\n",
       "      <td>No</td>\n",
       "    </tr>\n",
       "    <tr>\n",
       "      <th>3</th>\n",
       "      <td>18.1</td>\n",
       "      <td>4.447461</td>\n",
       "      <td>1017.6</td>\n",
       "      <td>45.0</td>\n",
       "      <td>9.0</td>\n",
       "      <td>11.0</td>\n",
       "      <td>7.611178</td>\n",
       "      <td>0.0</td>\n",
       "      <td>9.2</td>\n",
       "      <td>No</td>\n",
       "    </tr>\n",
       "    <tr>\n",
       "      <th>4</th>\n",
       "      <td>17.8</td>\n",
       "      <td>7.000000</td>\n",
       "      <td>1010.8</td>\n",
       "      <td>82.0</td>\n",
       "      <td>20.0</td>\n",
       "      <td>7.0</td>\n",
       "      <td>7.611178</td>\n",
       "      <td>1.0</td>\n",
       "      <td>17.5</td>\n",
       "      <td>No</td>\n",
       "    </tr>\n",
       "  </tbody>\n",
       "</table>\n",
       "</div>"
      ],
      "text/plain": [
       "   Temp9am  Cloud9am  Pressure9am  Humidity9am  WindSpeed3pm  WindSpeed9am  \\\n",
       "0     16.9  8.000000       1007.7         71.0          24.0          20.0   \n",
       "1     17.2  4.447461       1010.6         44.0          22.0           4.0   \n",
       "2     21.0  4.447461       1007.6         38.0          26.0          19.0   \n",
       "3     18.1  4.447461       1017.6         45.0           9.0          11.0   \n",
       "4     17.8  7.000000       1010.8         82.0          20.0           7.0   \n",
       "\n",
       "   Sunshine  Rainfall  MinTemp RainTomorrow  \n",
       "0  7.611178       0.6     13.4           No  \n",
       "1  7.611178       0.0      7.4           No  \n",
       "2  7.611178       0.0     12.9           No  \n",
       "3  7.611178       0.0      9.2           No  \n",
       "4  7.611178       1.0     17.5           No  "
      ]
     },
     "execution_count": 32,
     "metadata": {},
     "output_type": "execute_result"
    }
   ],
   "source": [
    "df_continu = df[vab_continu]\n",
    "df_continu.head()"
   ]
  },
  {
   "cell_type": "code",
   "execution_count": 33,
   "metadata": {
    "ExecuteTime": {
     "end_time": "2022-05-13T06:40:11.813412Z",
     "start_time": "2022-05-13T06:40:11.517902Z"
    },
    "colab": {
     "base_uri": "https://localhost:8080/",
     "height": 423
    },
    "executionInfo": {
     "elapsed": 159,
     "status": "ok",
     "timestamp": 1652325621689,
     "user": {
      "displayName": "Roikhatul Miskiyah",
      "userId": "03775508799116692671"
     },
     "user_tz": -420
    },
    "id": "WP3kFuTYNLbJ",
    "outputId": "0db55a67-a144-4461-c598-619eaf2fc4bd"
   },
   "outputs": [
    {
     "data": {
      "text/html": [
       "<div>\n",
       "<style scoped>\n",
       "    .dataframe tbody tr th:only-of-type {\n",
       "        vertical-align: middle;\n",
       "    }\n",
       "\n",
       "    .dataframe tbody tr th {\n",
       "        vertical-align: top;\n",
       "    }\n",
       "\n",
       "    .dataframe thead th {\n",
       "        text-align: right;\n",
       "    }\n",
       "</style>\n",
       "<table border=\"1\" class=\"dataframe\">\n",
       "  <thead>\n",
       "    <tr style=\"text-align: right;\">\n",
       "      <th></th>\n",
       "      <th>Temp9am</th>\n",
       "      <th>Cloud9am</th>\n",
       "      <th>Pressure9am</th>\n",
       "      <th>Humidity9am</th>\n",
       "      <th>WindSpeed3pm</th>\n",
       "      <th>WindSpeed9am</th>\n",
       "      <th>Sunshine</th>\n",
       "      <th>Rainfall</th>\n",
       "      <th>MinTemp</th>\n",
       "      <th>RainTomorrow</th>\n",
       "    </tr>\n",
       "  </thead>\n",
       "  <tbody>\n",
       "    <tr>\n",
       "      <th>0</th>\n",
       "      <td>16.9</td>\n",
       "      <td>8.000000</td>\n",
       "      <td>1007.7</td>\n",
       "      <td>71.0</td>\n",
       "      <td>24.0</td>\n",
       "      <td>20.0</td>\n",
       "      <td>7.611178</td>\n",
       "      <td>0.6</td>\n",
       "      <td>13.4</td>\n",
       "      <td>0</td>\n",
       "    </tr>\n",
       "    <tr>\n",
       "      <th>1</th>\n",
       "      <td>17.2</td>\n",
       "      <td>4.447461</td>\n",
       "      <td>1010.6</td>\n",
       "      <td>44.0</td>\n",
       "      <td>22.0</td>\n",
       "      <td>4.0</td>\n",
       "      <td>7.611178</td>\n",
       "      <td>0.0</td>\n",
       "      <td>7.4</td>\n",
       "      <td>0</td>\n",
       "    </tr>\n",
       "    <tr>\n",
       "      <th>2</th>\n",
       "      <td>21.0</td>\n",
       "      <td>4.447461</td>\n",
       "      <td>1007.6</td>\n",
       "      <td>38.0</td>\n",
       "      <td>26.0</td>\n",
       "      <td>19.0</td>\n",
       "      <td>7.611178</td>\n",
       "      <td>0.0</td>\n",
       "      <td>12.9</td>\n",
       "      <td>0</td>\n",
       "    </tr>\n",
       "    <tr>\n",
       "      <th>3</th>\n",
       "      <td>18.1</td>\n",
       "      <td>4.447461</td>\n",
       "      <td>1017.6</td>\n",
       "      <td>45.0</td>\n",
       "      <td>9.0</td>\n",
       "      <td>11.0</td>\n",
       "      <td>7.611178</td>\n",
       "      <td>0.0</td>\n",
       "      <td>9.2</td>\n",
       "      <td>0</td>\n",
       "    </tr>\n",
       "    <tr>\n",
       "      <th>4</th>\n",
       "      <td>17.8</td>\n",
       "      <td>7.000000</td>\n",
       "      <td>1010.8</td>\n",
       "      <td>82.0</td>\n",
       "      <td>20.0</td>\n",
       "      <td>7.0</td>\n",
       "      <td>7.611178</td>\n",
       "      <td>1.0</td>\n",
       "      <td>17.5</td>\n",
       "      <td>0</td>\n",
       "    </tr>\n",
       "    <tr>\n",
       "      <th>...</th>\n",
       "      <td>...</td>\n",
       "      <td>...</td>\n",
       "      <td>...</td>\n",
       "      <td>...</td>\n",
       "      <td>...</td>\n",
       "      <td>...</td>\n",
       "      <td>...</td>\n",
       "      <td>...</td>\n",
       "      <td>...</td>\n",
       "      <td>...</td>\n",
       "    </tr>\n",
       "    <tr>\n",
       "      <th>145455</th>\n",
       "      <td>10.1</td>\n",
       "      <td>4.447461</td>\n",
       "      <td>1024.6</td>\n",
       "      <td>51.0</td>\n",
       "      <td>11.0</td>\n",
       "      <td>13.0</td>\n",
       "      <td>7.611178</td>\n",
       "      <td>0.0</td>\n",
       "      <td>2.8</td>\n",
       "      <td>0</td>\n",
       "    </tr>\n",
       "    <tr>\n",
       "      <th>145456</th>\n",
       "      <td>10.9</td>\n",
       "      <td>4.447461</td>\n",
       "      <td>1023.5</td>\n",
       "      <td>56.0</td>\n",
       "      <td>9.0</td>\n",
       "      <td>13.0</td>\n",
       "      <td>7.611178</td>\n",
       "      <td>0.0</td>\n",
       "      <td>3.6</td>\n",
       "      <td>0</td>\n",
       "    </tr>\n",
       "    <tr>\n",
       "      <th>145457</th>\n",
       "      <td>12.5</td>\n",
       "      <td>4.447461</td>\n",
       "      <td>1021.0</td>\n",
       "      <td>53.0</td>\n",
       "      <td>9.0</td>\n",
       "      <td>9.0</td>\n",
       "      <td>7.611178</td>\n",
       "      <td>0.0</td>\n",
       "      <td>5.4</td>\n",
       "      <td>0</td>\n",
       "    </tr>\n",
       "    <tr>\n",
       "      <th>145458</th>\n",
       "      <td>15.1</td>\n",
       "      <td>3.000000</td>\n",
       "      <td>1019.4</td>\n",
       "      <td>51.0</td>\n",
       "      <td>7.0</td>\n",
       "      <td>13.0</td>\n",
       "      <td>7.611178</td>\n",
       "      <td>0.0</td>\n",
       "      <td>7.8</td>\n",
       "      <td>0</td>\n",
       "    </tr>\n",
       "    <tr>\n",
       "      <th>145459</th>\n",
       "      <td>15.0</td>\n",
       "      <td>8.000000</td>\n",
       "      <td>1020.2</td>\n",
       "      <td>62.0</td>\n",
       "      <td>17.0</td>\n",
       "      <td>17.0</td>\n",
       "      <td>7.611178</td>\n",
       "      <td>0.0</td>\n",
       "      <td>14.9</td>\n",
       "      <td>0</td>\n",
       "    </tr>\n",
       "  </tbody>\n",
       "</table>\n",
       "<p>145460 rows × 10 columns</p>\n",
       "</div>"
      ],
      "text/plain": [
       "        Temp9am  Cloud9am  Pressure9am  Humidity9am  WindSpeed3pm  \\\n",
       "0          16.9  8.000000       1007.7         71.0          24.0   \n",
       "1          17.2  4.447461       1010.6         44.0          22.0   \n",
       "2          21.0  4.447461       1007.6         38.0          26.0   \n",
       "3          18.1  4.447461       1017.6         45.0           9.0   \n",
       "4          17.8  7.000000       1010.8         82.0          20.0   \n",
       "...         ...       ...          ...          ...           ...   \n",
       "145455     10.1  4.447461       1024.6         51.0          11.0   \n",
       "145456     10.9  4.447461       1023.5         56.0           9.0   \n",
       "145457     12.5  4.447461       1021.0         53.0           9.0   \n",
       "145458     15.1  3.000000       1019.4         51.0           7.0   \n",
       "145459     15.0  8.000000       1020.2         62.0          17.0   \n",
       "\n",
       "        WindSpeed9am  Sunshine  Rainfall  MinTemp  RainTomorrow  \n",
       "0               20.0  7.611178       0.6     13.4             0  \n",
       "1                4.0  7.611178       0.0      7.4             0  \n",
       "2               19.0  7.611178       0.0     12.9             0  \n",
       "3               11.0  7.611178       0.0      9.2             0  \n",
       "4                7.0  7.611178       1.0     17.5             0  \n",
       "...              ...       ...       ...      ...           ...  \n",
       "145455          13.0  7.611178       0.0      2.8             0  \n",
       "145456          13.0  7.611178       0.0      3.6             0  \n",
       "145457           9.0  7.611178       0.0      5.4             0  \n",
       "145458          13.0  7.611178       0.0      7.8             0  \n",
       "145459          17.0  7.611178       0.0     14.9             0  \n",
       "\n",
       "[145460 rows x 10 columns]"
      ]
     },
     "execution_count": 33,
     "metadata": {},
     "output_type": "execute_result"
    }
   ],
   "source": [
    "from sklearn import preprocessing\n",
    "le = preprocessing.LabelEncoder()\n",
    "\n",
    "df_con_encode= df_continu.copy()\n",
    "for col in df_con_encode.select_dtypes(include='O').columns:\n",
    "    df_con_encode[col]=le.fit_transform(df_con_encode[col])\n",
    "\n",
    "df_con_encode"
   ]
  },
  {
   "cell_type": "code",
   "execution_count": 34,
   "metadata": {
    "ExecuteTime": {
     "end_time": "2022-05-13T06:40:15.212008Z",
     "start_time": "2022-05-13T06:40:11.819450Z"
    },
    "colab": {
     "base_uri": "https://localhost:8080/",
     "height": 615
    },
    "executionInfo": {
     "elapsed": 846,
     "status": "ok",
     "timestamp": 1652325622380,
     "user": {
      "displayName": "Roikhatul Miskiyah",
      "userId": "03775508799116692671"
     },
     "user_tz": -420
    },
    "id": "tlQQvMQOLyKX",
    "outputId": "9a3a5482-3b4f-413f-b396-2f45f8310001"
   },
   "outputs": [
    {
     "data": {
      "text/plain": [
       "<AxesSubplot:>"
      ]
     },
     "execution_count": 34,
     "metadata": {},
     "output_type": "execute_result"
    },
    {
     "data": {
      "image/png": "[encoded data removed]",
      "text/plain": [
       "<Figure size 1440x720 with 2 Axes>"
      ]
     },
     "metadata": {},
     "output_type": "display_data"
    }
   ],
   "source": [
    "plt.figure(figsize=(20,10))\n",
    "sns.heatmap(df_con_encode.corr(),annot=True)"
   ]
  },
  {
   "cell_type": "code",
   "execution_count": 35,
   "metadata": {
    "ExecuteTime": {
     "end_time": "2022-05-13T06:40:15.283201Z",
     "start_time": "2022-05-13T06:40:15.221388Z"
    },
    "id": "QbIG1K70O4Xp"
   },
   "outputs": [],
   "source": [
    "# Membuat dataframe baru yang berisikan fitur yang berkaitan dengan RainTomorrow\n",
    "new_df = df.drop(['Temp9am', 'WindDir9am', 'WindGustDir', 'WindDir3pm'], axis=1)"
   ]
  },
  {
   "cell_type": "code",
   "execution_count": 36,
   "metadata": {
    "ExecuteTime": {
     "end_time": "2022-05-13T06:40:15.431652Z",
     "start_time": "2022-05-13T06:40:15.289282Z"
    },
    "colab": {
     "base_uri": "https://localhost:8080/"
    },
    "executionInfo": {
     "elapsed": 93,
     "status": "ok",
     "timestamp": 1652325622392,
     "user": {
      "displayName": "Roikhatul Miskiyah",
      "userId": "03775508799116692671"
     },
     "user_tz": -420
    },
    "id": "IqjqBpoiPijE",
    "outputId": "d1364754-beb6-47f5-a7e5-6497a295d3f2"
   },
   "outputs": [
    {
     "data": {
      "text/plain": [
       "(145460, 19)"
      ]
     },
     "execution_count": 36,
     "metadata": {},
     "output_type": "execute_result"
    }
   ],
   "source": [
    "new_df.shape"
   ]
  },
  {
   "cell_type": "code",
   "execution_count": 37,
   "metadata": {
    "ExecuteTime": {
     "end_time": "2022-05-13T06:40:15.635938Z",
     "start_time": "2022-05-13T06:40:15.439254Z"
    },
    "colab": {
     "base_uri": "https://localhost:8080/"
    },
    "executionInfo": {
     "elapsed": 101,
     "status": "ok",
     "timestamp": 1652325622410,
     "user": {
      "displayName": "Roikhatul Miskiyah",
      "userId": "03775508799116692671"
     },
     "user_tz": -420
    },
    "id": "NCGntNNPPnlf",
    "outputId": "0de5bde6-d42e-47e2-ddeb-ce0493579485"
   },
   "outputs": [
    {
     "data": {
      "text/plain": [
       "Index(['Date', 'Location', 'MinTemp', 'MaxTemp', 'Rainfall', 'Evaporation',\n",
       "       'Sunshine', 'WindGustSpeed', 'WindSpeed9am', 'WindSpeed3pm',\n",
       "       'Humidity9am', 'Humidity3pm', 'Pressure9am', 'Pressure3pm', 'Cloud9am',\n",
       "       'Cloud3pm', 'Temp3pm', 'RainToday', 'RainTomorrow'],\n",
       "      dtype='object')"
      ]
     },
     "execution_count": 37,
     "metadata": {},
     "output_type": "execute_result"
    }
   ],
   "source": [
    "new_df.columns"
   ]
  },
  {
   "cell_type": "markdown",
   "metadata": {
    "id": "e6rqfdF6Mqkx"
   },
   "source": [
    "Format Date: 2008-12-01"
   ]
  },
  {
   "cell_type": "code",
   "execution_count": 38,
   "metadata": {
    "ExecuteTime": {
     "end_time": "2022-05-13T06:40:15.872466Z",
     "start_time": "2022-05-13T06:40:15.644641Z"
    },
    "colab": {
     "base_uri": "https://localhost:8080/"
    },
    "executionInfo": {
     "elapsed": 94,
     "status": "ok",
     "timestamp": 1652325622411,
     "user": {
      "displayName": "Roikhatul Miskiyah",
      "userId": "03775508799116692671"
     },
     "user_tz": -420
    },
    "id": "u1ZhE6_TOS4a",
    "outputId": "6cc3600f-7384-455d-e2aa-94ba7240a9dc"
   },
   "outputs": [
    {
     "name": "stdout",
     "output_type": "stream",
     "text": [
      "['MinTemp', 'MaxTemp', 'Rainfall', 'Evaporation', 'Sunshine', 'WindGustSpeed', 'WindSpeed9am', 'WindSpeed3pm', 'Humidity9am', 'Humidity3pm', 'Pressure9am', 'Pressure3pm', 'Cloud9am', 'Cloud3pm', 'Temp3pm']\n"
     ]
    }
   ],
   "source": [
    "numeric_cols = new_df.select_dtypes(include = np.number).columns.to_list()\n",
    "print(numeric_cols)"
   ]
  },
  {
   "cell_type": "code",
   "execution_count": 39,
   "metadata": {
    "ExecuteTime": {
     "end_time": "2022-05-13T06:40:16.094550Z",
     "start_time": "2022-05-13T06:40:15.879511Z"
    },
    "colab": {
     "base_uri": "https://localhost:8080/"
    },
    "executionInfo": {
     "elapsed": 98,
     "status": "ok",
     "timestamp": 1652325622421,
     "user": {
      "displayName": "Roikhatul Miskiyah",
      "userId": "03775508799116692671"
     },
     "user_tz": -420
    },
    "id": "xqSJmtwVPEis",
    "outputId": "012e105c-754b-45f5-eb78-e4ce65c9bd2a"
   },
   "outputs": [
    {
     "name": "stdout",
     "output_type": "stream",
     "text": [
      "['Date', 'Location', 'RainToday', 'RainTomorrow']\n"
     ]
    }
   ],
   "source": [
    "#Fetching categorical or string columns from the dataset\n",
    "categorical_cols = new_df.select_dtypes('object').columns.to_list()\n",
    "print(categorical_cols)"
   ]
  },
  {
   "cell_type": "code",
   "execution_count": 40,
   "metadata": {
    "ExecuteTime": {
     "end_time": "2022-05-13T06:40:16.442767Z",
     "start_time": "2022-05-13T06:40:16.100589Z"
    },
    "id": "tUQ_FqshPIYg"
   },
   "outputs": [],
   "source": [
    "from sklearn.impute import SimpleImputer\n",
    "imputer = SimpleImputer(strategy = \"mean\").fit(new_df[numeric_cols])"
   ]
  },
  {
   "cell_type": "code",
   "execution_count": 41,
   "metadata": {
    "ExecuteTime": {
     "end_time": "2022-05-13T06:40:16.618182Z",
     "start_time": "2022-05-13T06:40:16.448809Z"
    },
    "id": "4KLJEFgrPNdk"
   },
   "outputs": [],
   "source": [
    "#apply the mean imputing strategy on numerical columns of raw_df\n",
    "new_df[numeric_cols] = imputer.transform(new_df[numeric_cols])"
   ]
  },
  {
   "cell_type": "code",
   "execution_count": 42,
   "metadata": {
    "ExecuteTime": {
     "end_time": "2022-05-13T06:40:16.745861Z",
     "start_time": "2022-05-13T06:40:16.627810Z"
    },
    "colab": {
     "base_uri": "https://localhost:8080/"
    },
    "executionInfo": {
     "elapsed": 118,
     "status": "ok",
     "timestamp": 1652325622450,
     "user": {
      "displayName": "Roikhatul Miskiyah",
      "userId": "03775508799116692671"
     },
     "user_tz": -420
    },
    "id": "Le_ISDDNPRkW",
    "outputId": "340bbfe6-e9b9-45f2-99c0-48c6a2ed55dd"
   },
   "outputs": [
    {
     "data": {
      "text/plain": [
       "MinTemp          0\n",
       "MaxTemp          0\n",
       "Rainfall         0\n",
       "Evaporation      0\n",
       "Sunshine         0\n",
       "WindGustSpeed    0\n",
       "WindSpeed9am     0\n",
       "WindSpeed3pm     0\n",
       "Humidity9am      0\n",
       "Humidity3pm      0\n",
       "Pressure9am      0\n",
       "Pressure3pm      0\n",
       "Cloud9am         0\n",
       "Cloud3pm         0\n",
       "Temp3pm          0\n",
       "dtype: int64"
      ]
     },
     "execution_count": 42,
     "metadata": {},
     "output_type": "execute_result"
    }
   ],
   "source": [
    "new_df[numeric_cols].isna().sum()"
   ]
  },
  {
   "cell_type": "code",
   "execution_count": 43,
   "metadata": {
    "ExecuteTime": {
     "end_time": "2022-05-13T06:40:16.963727Z",
     "start_time": "2022-05-13T06:40:16.756501Z"
    },
    "colab": {
     "base_uri": "https://localhost:8080/"
    },
    "executionInfo": {
     "elapsed": 117,
     "status": "ok",
     "timestamp": 1652325622455,
     "user": {
      "displayName": "Roikhatul Miskiyah",
      "userId": "03775508799116692671"
     },
     "user_tz": -420
    },
    "id": "uRHV4ss1PWQl",
    "outputId": "a2a3ca4c-a31a-4bc7-ab1e-5068d1b305ab"
   },
   "outputs": [
    {
     "data": {
      "text/plain": [
       "Date            0\n",
       "Location        0\n",
       "RainToday       0\n",
       "RainTomorrow    0\n",
       "dtype: int64"
      ]
     },
     "execution_count": 43,
     "metadata": {},
     "output_type": "execute_result"
    }
   ],
   "source": [
    "new_df[categorical_cols].isna().sum()"
   ]
  },
  {
   "cell_type": "code",
   "execution_count": 44,
   "metadata": {
    "ExecuteTime": {
     "end_time": "2022-05-13T06:40:17.183622Z",
     "start_time": "2022-05-13T06:40:16.982982Z"
    },
    "id": "dNiq3kMuPbpD"
   },
   "outputs": [],
   "source": [
    "new_df[categorical_cols] = new_df[categorical_cols].fillna(\"unknown\")"
   ]
  },
  {
   "cell_type": "code",
   "execution_count": 45,
   "metadata": {
    "ExecuteTime": {
     "end_time": "2022-05-13T06:40:17.353864Z",
     "start_time": "2022-05-13T06:40:17.193248Z"
    },
    "colab": {
     "base_uri": "https://localhost:8080/"
    },
    "executionInfo": {
     "elapsed": 114,
     "status": "ok",
     "timestamp": 1652325622460,
     "user": {
      "displayName": "Roikhatul Miskiyah",
      "userId": "03775508799116692671"
     },
     "user_tz": -420
    },
    "id": "59EPhVAzPfFj",
    "outputId": "d9db8f1d-f94b-4b13-c35f-149b49276eb2"
   },
   "outputs": [
    {
     "data": {
      "text/plain": [
       "Date            0\n",
       "Location        0\n",
       "RainToday       0\n",
       "RainTomorrow    0\n",
       "dtype: int64"
      ]
     },
     "execution_count": 45,
     "metadata": {},
     "output_type": "execute_result"
    }
   ],
   "source": [
    "new_df[categorical_cols].isna().sum()"
   ]
  },
  {
   "cell_type": "code",
   "execution_count": 46,
   "metadata": {
    "ExecuteTime": {
     "end_time": "2022-05-13T06:40:18.454729Z",
     "start_time": "2022-05-13T06:40:17.364502Z"
    },
    "id": "qwCBiBGnPiUq"
   },
   "outputs": [],
   "source": [
    "new_df[\"year\"] = pd.to_datetime(new_df.Date).dt.year;\n",
    "new_df[\"month\"] = pd.to_datetime(new_df.Date).dt.month;\n",
    "new_df[\"day\"] = pd.to_datetime(new_df.Date).dt.day;"
   ]
  },
  {
   "cell_type": "code",
   "execution_count": 47,
   "metadata": {
    "ExecuteTime": {
     "end_time": "2022-05-13T06:40:18.651827Z",
     "start_time": "2022-05-13T06:40:18.475505Z"
    },
    "colab": {
     "base_uri": "https://localhost:8080/"
    },
    "executionInfo": {
     "elapsed": 171,
     "status": "ok",
     "timestamp": 1652325623361,
     "user": {
      "displayName": "Roikhatul Miskiyah",
      "userId": "03775508799116692671"
     },
     "user_tz": -420
    },
    "id": "JSWefgoKQdge",
    "outputId": "9d0810c6-2c2c-464b-95ba-46260aafda97"
   },
   "outputs": [
    {
     "name": "stdout",
     "output_type": "stream",
     "text": [
      "              Date Location  MinTemp    MaxTemp  Rainfall  Evaporation  \\\n",
      "0       2008-12-01   Albury     13.4  22.900000       0.6     5.468232   \n",
      "1       2008-12-02   Albury      7.4  25.100000       0.0     5.468232   \n",
      "2       2008-12-03   Albury     12.9  25.700000       0.0     5.468232   \n",
      "3       2008-12-04   Albury      9.2  28.000000       0.0     5.468232   \n",
      "4       2008-12-05   Albury     17.5  32.300000       1.0     5.468232   \n",
      "...            ...      ...      ...        ...       ...          ...   \n",
      "145455  2017-06-21    Uluru      2.8  23.400000       0.0     5.468232   \n",
      "145456  2017-06-22    Uluru      3.6  25.300000       0.0     5.468232   \n",
      "145457  2017-06-23    Uluru      5.4  26.900000       0.0     5.468232   \n",
      "145458  2017-06-24    Uluru      7.8  27.000000       0.0     5.468232   \n",
      "145459  2017-06-25    Uluru     14.9  23.221348       0.0     5.468232   \n",
      "\n",
      "        Sunshine  WindGustSpeed  WindSpeed9am  WindSpeed3pm  ...  Pressure9am  \\\n",
      "0       7.611178       44.00000          20.0          24.0  ...       1007.7   \n",
      "1       7.611178       44.00000           4.0          22.0  ...       1010.6   \n",
      "2       7.611178       46.00000          19.0          26.0  ...       1007.6   \n",
      "3       7.611178       24.00000          11.0           9.0  ...       1017.6   \n",
      "4       7.611178       41.00000           7.0          20.0  ...       1010.8   \n",
      "...          ...            ...           ...           ...  ...          ...   \n",
      "145455  7.611178       31.00000          13.0          11.0  ...       1024.6   \n",
      "145456  7.611178       22.00000          13.0           9.0  ...       1023.5   \n",
      "145457  7.611178       37.00000           9.0           9.0  ...       1021.0   \n",
      "145458  7.611178       28.00000          13.0           7.0  ...       1019.4   \n",
      "145459  7.611178       40.03523          17.0          17.0  ...       1020.2   \n",
      "\n",
      "        Pressure3pm  Cloud9am  Cloud3pm  Temp3pm  RainToday  RainTomorrow  \\\n",
      "0            1007.1  8.000000   4.50993     21.8         No            No   \n",
      "1            1007.8  4.447461   4.50993     24.3         No            No   \n",
      "2            1008.7  4.447461   2.00000     23.2         No            No   \n",
      "3            1012.8  4.447461   4.50993     26.5         No            No   \n",
      "4            1006.0  7.000000   8.00000     29.7         No            No   \n",
      "...             ...       ...       ...      ...        ...           ...   \n",
      "145455       1020.3  4.447461   4.50993     22.4         No            No   \n",
      "145456       1019.1  4.447461   4.50993     24.5         No            No   \n",
      "145457       1016.8  4.447461   4.50993     26.1         No            No   \n",
      "145458       1016.5  3.000000   2.00000     26.0         No            No   \n",
      "145459       1017.9  8.000000   8.00000     20.9         No            No   \n",
      "\n",
      "        year month  day  \n",
      "0       2008    12    1  \n",
      "1       2008    12    2  \n",
      "2       2008    12    3  \n",
      "3       2008    12    4  \n",
      "4       2008    12    5  \n",
      "...      ...   ...  ...  \n",
      "145455  2017     6   21  \n",
      "145456  2017     6   22  \n",
      "145457  2017     6   23  \n",
      "145458  2017     6   24  \n",
      "145459  2017     6   25  \n",
      "\n",
      "[145460 rows x 22 columns]\n"
     ]
    }
   ],
   "source": [
    "print(new_df)"
   ]
  },
  {
   "cell_type": "code",
   "execution_count": 48,
   "metadata": {
    "ExecuteTime": {
     "end_time": "2022-05-13T06:40:18.753156Z",
     "start_time": "2022-05-13T06:40:18.663476Z"
    },
    "id": "Rn7KxStLQ7xW"
   },
   "outputs": [],
   "source": [
    "new_df_fix = new_df.drop(['Date'], axis=1)"
   ]
  },
  {
   "cell_type": "code",
   "execution_count": 49,
   "metadata": {
    "ExecuteTime": {
     "end_time": "2022-05-13T06:40:18.836252Z",
     "start_time": "2022-05-13T06:40:18.763291Z"
    },
    "colab": {
     "base_uri": "https://localhost:8080/"
    },
    "executionInfo": {
     "elapsed": 163,
     "status": "ok",
     "timestamp": 1652325623364,
     "user": {
      "displayName": "Roikhatul Miskiyah",
      "userId": "03775508799116692671"
     },
     "user_tz": -420
    },
    "id": "TEf1w_ADQy0b",
    "outputId": "78cd0c40-205e-477b-f2f6-3ff167ba6d28"
   },
   "outputs": [
    {
     "data": {
      "text/plain": [
       "Index(['Location', 'MinTemp', 'MaxTemp', 'Rainfall', 'Evaporation', 'Sunshine',\n",
       "       'WindGustSpeed', 'WindSpeed9am', 'WindSpeed3pm', 'Humidity9am',\n",
       "       'Humidity3pm', 'Pressure9am', 'Pressure3pm', 'Cloud9am', 'Cloud3pm',\n",
       "       'Temp3pm', 'RainToday', 'RainTomorrow', 'year', 'month', 'day'],\n",
       "      dtype='object')"
      ]
     },
     "execution_count": 49,
     "metadata": {},
     "output_type": "execute_result"
    }
   ],
   "source": [
    "new_df_fix.columns"
   ]
  },
  {
   "cell_type": "code",
   "execution_count": 50,
   "metadata": {
    "ExecuteTime": {
     "end_time": "2022-05-13T06:40:19.497451Z",
     "start_time": "2022-05-13T06:40:18.847904Z"
    },
    "colab": {
     "base_uri": "https://localhost:8080/",
     "height": 487
    },
    "executionInfo": {
     "elapsed": 135,
     "status": "ok",
     "timestamp": 1652325623368,
     "user": {
      "displayName": "Roikhatul Miskiyah",
      "userId": "03775508799116692671"
     },
     "user_tz": -420
    },
    "id": "0TK3SvdEP9kf",
    "outputId": "8b663f67-de85-45b3-a79f-c940c1851cfc"
   },
   "outputs": [
    {
     "data": {
      "text/html": [
       "<div>\n",
       "<style scoped>\n",
       "    .dataframe tbody tr th:only-of-type {\n",
       "        vertical-align: middle;\n",
       "    }\n",
       "\n",
       "    .dataframe tbody tr th {\n",
       "        vertical-align: top;\n",
       "    }\n",
       "\n",
       "    .dataframe thead th {\n",
       "        text-align: right;\n",
       "    }\n",
       "</style>\n",
       "<table border=\"1\" class=\"dataframe\">\n",
       "  <thead>\n",
       "    <tr style=\"text-align: right;\">\n",
       "      <th></th>\n",
       "      <th>Location</th>\n",
       "      <th>MinTemp</th>\n",
       "      <th>MaxTemp</th>\n",
       "      <th>Rainfall</th>\n",
       "      <th>Evaporation</th>\n",
       "      <th>Sunshine</th>\n",
       "      <th>WindGustSpeed</th>\n",
       "      <th>WindSpeed9am</th>\n",
       "      <th>WindSpeed3pm</th>\n",
       "      <th>Humidity9am</th>\n",
       "      <th>...</th>\n",
       "      <th>Pressure9am</th>\n",
       "      <th>Pressure3pm</th>\n",
       "      <th>Cloud9am</th>\n",
       "      <th>Cloud3pm</th>\n",
       "      <th>Temp3pm</th>\n",
       "      <th>RainToday</th>\n",
       "      <th>RainTomorrow</th>\n",
       "      <th>year</th>\n",
       "      <th>month</th>\n",
       "      <th>day</th>\n",
       "    </tr>\n",
       "  </thead>\n",
       "  <tbody>\n",
       "    <tr>\n",
       "      <th>0</th>\n",
       "      <td>2</td>\n",
       "      <td>13.4</td>\n",
       "      <td>22.900000</td>\n",
       "      <td>0.6</td>\n",
       "      <td>5.468232</td>\n",
       "      <td>7.611178</td>\n",
       "      <td>44.00000</td>\n",
       "      <td>20.0</td>\n",
       "      <td>24.0</td>\n",
       "      <td>71.0</td>\n",
       "      <td>...</td>\n",
       "      <td>1007.7</td>\n",
       "      <td>1007.1</td>\n",
       "      <td>8.000000</td>\n",
       "      <td>4.50993</td>\n",
       "      <td>21.8</td>\n",
       "      <td>0</td>\n",
       "      <td>0</td>\n",
       "      <td>2008</td>\n",
       "      <td>12</td>\n",
       "      <td>1</td>\n",
       "    </tr>\n",
       "    <tr>\n",
       "      <th>1</th>\n",
       "      <td>2</td>\n",
       "      <td>7.4</td>\n",
       "      <td>25.100000</td>\n",
       "      <td>0.0</td>\n",
       "      <td>5.468232</td>\n",
       "      <td>7.611178</td>\n",
       "      <td>44.00000</td>\n",
       "      <td>4.0</td>\n",
       "      <td>22.0</td>\n",
       "      <td>44.0</td>\n",
       "      <td>...</td>\n",
       "      <td>1010.6</td>\n",
       "      <td>1007.8</td>\n",
       "      <td>4.447461</td>\n",
       "      <td>4.50993</td>\n",
       "      <td>24.3</td>\n",
       "      <td>0</td>\n",
       "      <td>0</td>\n",
       "      <td>2008</td>\n",
       "      <td>12</td>\n",
       "      <td>2</td>\n",
       "    </tr>\n",
       "    <tr>\n",
       "      <th>2</th>\n",
       "      <td>2</td>\n",
       "      <td>12.9</td>\n",
       "      <td>25.700000</td>\n",
       "      <td>0.0</td>\n",
       "      <td>5.468232</td>\n",
       "      <td>7.611178</td>\n",
       "      <td>46.00000</td>\n",
       "      <td>19.0</td>\n",
       "      <td>26.0</td>\n",
       "      <td>38.0</td>\n",
       "      <td>...</td>\n",
       "      <td>1007.6</td>\n",
       "      <td>1008.7</td>\n",
       "      <td>4.447461</td>\n",
       "      <td>2.00000</td>\n",
       "      <td>23.2</td>\n",
       "      <td>0</td>\n",
       "      <td>0</td>\n",
       "      <td>2008</td>\n",
       "      <td>12</td>\n",
       "      <td>3</td>\n",
       "    </tr>\n",
       "    <tr>\n",
       "      <th>3</th>\n",
       "      <td>2</td>\n",
       "      <td>9.2</td>\n",
       "      <td>28.000000</td>\n",
       "      <td>0.0</td>\n",
       "      <td>5.468232</td>\n",
       "      <td>7.611178</td>\n",
       "      <td>24.00000</td>\n",
       "      <td>11.0</td>\n",
       "      <td>9.0</td>\n",
       "      <td>45.0</td>\n",
       "      <td>...</td>\n",
       "      <td>1017.6</td>\n",
       "      <td>1012.8</td>\n",
       "      <td>4.447461</td>\n",
       "      <td>4.50993</td>\n",
       "      <td>26.5</td>\n",
       "      <td>0</td>\n",
       "      <td>0</td>\n",
       "      <td>2008</td>\n",
       "      <td>12</td>\n",
       "      <td>4</td>\n",
       "    </tr>\n",
       "    <tr>\n",
       "      <th>4</th>\n",
       "      <td>2</td>\n",
       "      <td>17.5</td>\n",
       "      <td>32.300000</td>\n",
       "      <td>1.0</td>\n",
       "      <td>5.468232</td>\n",
       "      <td>7.611178</td>\n",
       "      <td>41.00000</td>\n",
       "      <td>7.0</td>\n",
       "      <td>20.0</td>\n",
       "      <td>82.0</td>\n",
       "      <td>...</td>\n",
       "      <td>1010.8</td>\n",
       "      <td>1006.0</td>\n",
       "      <td>7.000000</td>\n",
       "      <td>8.00000</td>\n",
       "      <td>29.7</td>\n",
       "      <td>0</td>\n",
       "      <td>0</td>\n",
       "      <td>2008</td>\n",
       "      <td>12</td>\n",
       "      <td>5</td>\n",
       "    </tr>\n",
       "    <tr>\n",
       "      <th>...</th>\n",
       "      <td>...</td>\n",
       "      <td>...</td>\n",
       "      <td>...</td>\n",
       "      <td>...</td>\n",
       "      <td>...</td>\n",
       "      <td>...</td>\n",
       "      <td>...</td>\n",
       "      <td>...</td>\n",
       "      <td>...</td>\n",
       "      <td>...</td>\n",
       "      <td>...</td>\n",
       "      <td>...</td>\n",
       "      <td>...</td>\n",
       "      <td>...</td>\n",
       "      <td>...</td>\n",
       "      <td>...</td>\n",
       "      <td>...</td>\n",
       "      <td>...</td>\n",
       "      <td>...</td>\n",
       "      <td>...</td>\n",
       "      <td>...</td>\n",
       "    </tr>\n",
       "    <tr>\n",
       "      <th>145455</th>\n",
       "      <td>41</td>\n",
       "      <td>2.8</td>\n",
       "      <td>23.400000</td>\n",
       "      <td>0.0</td>\n",
       "      <td>5.468232</td>\n",
       "      <td>7.611178</td>\n",
       "      <td>31.00000</td>\n",
       "      <td>13.0</td>\n",
       "      <td>11.0</td>\n",
       "      <td>51.0</td>\n",
       "      <td>...</td>\n",
       "      <td>1024.6</td>\n",
       "      <td>1020.3</td>\n",
       "      <td>4.447461</td>\n",
       "      <td>4.50993</td>\n",
       "      <td>22.4</td>\n",
       "      <td>0</td>\n",
       "      <td>0</td>\n",
       "      <td>2017</td>\n",
       "      <td>6</td>\n",
       "      <td>21</td>\n",
       "    </tr>\n",
       "    <tr>\n",
       "      <th>145456</th>\n",
       "      <td>41</td>\n",
       "      <td>3.6</td>\n",
       "      <td>25.300000</td>\n",
       "      <td>0.0</td>\n",
       "      <td>5.468232</td>\n",
       "      <td>7.611178</td>\n",
       "      <td>22.00000</td>\n",
       "      <td>13.0</td>\n",
       "      <td>9.0</td>\n",
       "      <td>56.0</td>\n",
       "      <td>...</td>\n",
       "      <td>1023.5</td>\n",
       "      <td>1019.1</td>\n",
       "      <td>4.447461</td>\n",
       "      <td>4.50993</td>\n",
       "      <td>24.5</td>\n",
       "      <td>0</td>\n",
       "      <td>0</td>\n",
       "      <td>2017</td>\n",
       "      <td>6</td>\n",
       "      <td>22</td>\n",
       "    </tr>\n",
       "    <tr>\n",
       "      <th>145457</th>\n",
       "      <td>41</td>\n",
       "      <td>5.4</td>\n",
       "      <td>26.900000</td>\n",
       "      <td>0.0</td>\n",
       "      <td>5.468232</td>\n",
       "      <td>7.611178</td>\n",
       "      <td>37.00000</td>\n",
       "      <td>9.0</td>\n",
       "      <td>9.0</td>\n",
       "      <td>53.0</td>\n",
       "      <td>...</td>\n",
       "      <td>1021.0</td>\n",
       "      <td>1016.8</td>\n",
       "      <td>4.447461</td>\n",
       "      <td>4.50993</td>\n",
       "      <td>26.1</td>\n",
       "      <td>0</td>\n",
       "      <td>0</td>\n",
       "      <td>2017</td>\n",
       "      <td>6</td>\n",
       "      <td>23</td>\n",
       "    </tr>\n",
       "    <tr>\n",
       "      <th>145458</th>\n",
       "      <td>41</td>\n",
       "      <td>7.8</td>\n",
       "      <td>27.000000</td>\n",
       "      <td>0.0</td>\n",
       "      <td>5.468232</td>\n",
       "      <td>7.611178</td>\n",
       "      <td>28.00000</td>\n",
       "      <td>13.0</td>\n",
       "      <td>7.0</td>\n",
       "      <td>51.0</td>\n",
       "      <td>...</td>\n",
       "      <td>1019.4</td>\n",
       "      <td>1016.5</td>\n",
       "      <td>3.000000</td>\n",
       "      <td>2.00000</td>\n",
       "      <td>26.0</td>\n",
       "      <td>0</td>\n",
       "      <td>0</td>\n",
       "      <td>2017</td>\n",
       "      <td>6</td>\n",
       "      <td>24</td>\n",
       "    </tr>\n",
       "    <tr>\n",
       "      <th>145459</th>\n",
       "      <td>41</td>\n",
       "      <td>14.9</td>\n",
       "      <td>23.221348</td>\n",
       "      <td>0.0</td>\n",
       "      <td>5.468232</td>\n",
       "      <td>7.611178</td>\n",
       "      <td>40.03523</td>\n",
       "      <td>17.0</td>\n",
       "      <td>17.0</td>\n",
       "      <td>62.0</td>\n",
       "      <td>...</td>\n",
       "      <td>1020.2</td>\n",
       "      <td>1017.9</td>\n",
       "      <td>8.000000</td>\n",
       "      <td>8.00000</td>\n",
       "      <td>20.9</td>\n",
       "      <td>0</td>\n",
       "      <td>0</td>\n",
       "      <td>2017</td>\n",
       "      <td>6</td>\n",
       "      <td>25</td>\n",
       "    </tr>\n",
       "  </tbody>\n",
       "</table>\n",
       "<p>145460 rows × 21 columns</p>\n",
       "</div>"
      ],
      "text/plain": [
       "        Location  MinTemp    MaxTemp  Rainfall  Evaporation  Sunshine  \\\n",
       "0              2     13.4  22.900000       0.6     5.468232  7.611178   \n",
       "1              2      7.4  25.100000       0.0     5.468232  7.611178   \n",
       "2              2     12.9  25.700000       0.0     5.468232  7.611178   \n",
       "3              2      9.2  28.000000       0.0     5.468232  7.611178   \n",
       "4              2     17.5  32.300000       1.0     5.468232  7.611178   \n",
       "...          ...      ...        ...       ...          ...       ...   \n",
       "145455        41      2.8  23.400000       0.0     5.468232  7.611178   \n",
       "145456        41      3.6  25.300000       0.0     5.468232  7.611178   \n",
       "145457        41      5.4  26.900000       0.0     5.468232  7.611178   \n",
       "145458        41      7.8  27.000000       0.0     5.468232  7.611178   \n",
       "145459        41     14.9  23.221348       0.0     5.468232  7.611178   \n",
       "\n",
       "        WindGustSpeed  WindSpeed9am  WindSpeed3pm  Humidity9am  ...  \\\n",
       "0            44.00000          20.0          24.0         71.0  ...   \n",
       "1            44.00000           4.0          22.0         44.0  ...   \n",
       "2            46.00000          19.0          26.0         38.0  ...   \n",
       "3            24.00000          11.0           9.0         45.0  ...   \n",
       "4            41.00000           7.0          20.0         82.0  ...   \n",
       "...               ...           ...           ...          ...  ...   \n",
       "145455       31.00000          13.0          11.0         51.0  ...   \n",
       "145456       22.00000          13.0           9.0         56.0  ...   \n",
       "145457       37.00000           9.0           9.0         53.0  ...   \n",
       "145458       28.00000          13.0           7.0         51.0  ...   \n",
       "145459       40.03523          17.0          17.0         62.0  ...   \n",
       "\n",
       "        Pressure9am  Pressure3pm  Cloud9am  Cloud3pm  Temp3pm  RainToday  \\\n",
       "0            1007.7       1007.1  8.000000   4.50993     21.8          0   \n",
       "1            1010.6       1007.8  4.447461   4.50993     24.3          0   \n",
       "2            1007.6       1008.7  4.447461   2.00000     23.2          0   \n",
       "3            1017.6       1012.8  4.447461   4.50993     26.5          0   \n",
       "4            1010.8       1006.0  7.000000   8.00000     29.7          0   \n",
       "...             ...          ...       ...       ...      ...        ...   \n",
       "145455       1024.6       1020.3  4.447461   4.50993     22.4          0   \n",
       "145456       1023.5       1019.1  4.447461   4.50993     24.5          0   \n",
       "145457       1021.0       1016.8  4.447461   4.50993     26.1          0   \n",
       "145458       1019.4       1016.5  3.000000   2.00000     26.0          0   \n",
       "145459       1020.2       1017.9  8.000000   8.00000     20.9          0   \n",
       "\n",
       "        RainTomorrow  year  month  day  \n",
       "0                  0  2008     12    1  \n",
       "1                  0  2008     12    2  \n",
       "2                  0  2008     12    3  \n",
       "3                  0  2008     12    4  \n",
       "4                  0  2008     12    5  \n",
       "...              ...   ...    ...  ...  \n",
       "145455             0  2017      6   21  \n",
       "145456             0  2017      6   22  \n",
       "145457             0  2017      6   23  \n",
       "145458             0  2017      6   24  \n",
       "145459             0  2017      6   25  \n",
       "\n",
       "[145460 rows x 21 columns]"
      ]
     },
     "execution_count": 50,
     "metadata": {},
     "output_type": "execute_result"
    }
   ],
   "source": [
    "# Encoding new data frame\n",
    "from sklearn import preprocessing\n",
    "le = preprocessing.LabelEncoder()\n",
    "\n",
    "new_df_fix_encode= new_df_fix.copy()\n",
    "for col in new_df_fix_encode.select_dtypes(include='O').columns:\n",
    "    new_df_fix_encode[col]=le.fit_transform(new_df_fix_encode[col])\n",
    "\n",
    "new_df_fix_encode"
   ]
  },
  {
   "cell_type": "code",
   "execution_count": 51,
   "metadata": {
    "ExecuteTime": {
     "end_time": "2022-05-13T06:40:20.417553Z",
     "start_time": "2022-05-13T06:40:19.505047Z"
    },
    "colab": {
     "base_uri": "https://localhost:8080/",
     "height": 393
    },
    "executionInfo": {
     "elapsed": 113,
     "status": "ok",
     "timestamp": 1652325623371,
     "user": {
      "displayName": "Roikhatul Miskiyah",
      "userId": "03775508799116692671"
     },
     "user_tz": -420
    },
    "id": "iVzo9RXkQOPJ",
    "outputId": "6aab810d-3e68-434a-edfc-3744f3d6918d"
   },
   "outputs": [
    {
     "data": {
      "text/html": [
       "<div>\n",
       "<style scoped>\n",
       "    .dataframe tbody tr th:only-of-type {\n",
       "        vertical-align: middle;\n",
       "    }\n",
       "\n",
       "    .dataframe tbody tr th {\n",
       "        vertical-align: top;\n",
       "    }\n",
       "\n",
       "    .dataframe thead th {\n",
       "        text-align: right;\n",
       "    }\n",
       "</style>\n",
       "<table border=\"1\" class=\"dataframe\">\n",
       "  <thead>\n",
       "    <tr style=\"text-align: right;\">\n",
       "      <th></th>\n",
       "      <th>Location</th>\n",
       "      <th>MinTemp</th>\n",
       "      <th>MaxTemp</th>\n",
       "      <th>Rainfall</th>\n",
       "      <th>Evaporation</th>\n",
       "      <th>Sunshine</th>\n",
       "      <th>WindGustSpeed</th>\n",
       "      <th>WindSpeed9am</th>\n",
       "      <th>WindSpeed3pm</th>\n",
       "      <th>Humidity9am</th>\n",
       "      <th>...</th>\n",
       "      <th>Pressure9am</th>\n",
       "      <th>Pressure3pm</th>\n",
       "      <th>Cloud9am</th>\n",
       "      <th>Cloud3pm</th>\n",
       "      <th>Temp3pm</th>\n",
       "      <th>RainToday</th>\n",
       "      <th>RainTomorrow</th>\n",
       "      <th>year</th>\n",
       "      <th>month</th>\n",
       "      <th>day</th>\n",
       "    </tr>\n",
       "  </thead>\n",
       "  <tbody>\n",
       "    <tr>\n",
       "      <th>count</th>\n",
       "      <td>145460.000000</td>\n",
       "      <td>145460.000000</td>\n",
       "      <td>145460.000000</td>\n",
       "      <td>145460.000000</td>\n",
       "      <td>145460.000000</td>\n",
       "      <td>145460.000000</td>\n",
       "      <td>145460.000000</td>\n",
       "      <td>145460.000000</td>\n",
       "      <td>145460.000000</td>\n",
       "      <td>145460.000000</td>\n",
       "      <td>...</td>\n",
       "      <td>145460.000000</td>\n",
       "      <td>145460.000000</td>\n",
       "      <td>145460.000000</td>\n",
       "      <td>145460.000000</td>\n",
       "      <td>145460.000000</td>\n",
       "      <td>145460.000000</td>\n",
       "      <td>145460.000000</td>\n",
       "      <td>145460.000000</td>\n",
       "      <td>145460.000000</td>\n",
       "      <td>145460.000000</td>\n",
       "    </tr>\n",
       "    <tr>\n",
       "      <th>mean</th>\n",
       "      <td>23.793524</td>\n",
       "      <td>12.194034</td>\n",
       "      <td>23.221348</td>\n",
       "      <td>2.360918</td>\n",
       "      <td>5.468232</td>\n",
       "      <td>7.611178</td>\n",
       "      <td>40.035230</td>\n",
       "      <td>14.043426</td>\n",
       "      <td>18.662657</td>\n",
       "      <td>68.880831</td>\n",
       "      <td>...</td>\n",
       "      <td>1017.649940</td>\n",
       "      <td>1015.255889</td>\n",
       "      <td>4.447461</td>\n",
       "      <td>4.509930</td>\n",
       "      <td>21.683390</td>\n",
       "      <td>0.219167</td>\n",
       "      <td>0.219146</td>\n",
       "      <td>2012.769751</td>\n",
       "      <td>6.399615</td>\n",
       "      <td>15.712258</td>\n",
       "    </tr>\n",
       "    <tr>\n",
       "      <th>std</th>\n",
       "      <td>14.228687</td>\n",
       "      <td>6.365750</td>\n",
       "      <td>7.088124</td>\n",
       "      <td>8.382488</td>\n",
       "      <td>3.161541</td>\n",
       "      <td>2.729486</td>\n",
       "      <td>13.118253</td>\n",
       "      <td>8.861059</td>\n",
       "      <td>8.716581</td>\n",
       "      <td>18.854765</td>\n",
       "      <td>...</td>\n",
       "      <td>6.728467</td>\n",
       "      <td>6.663973</td>\n",
       "      <td>2.265604</td>\n",
       "      <td>2.092954</td>\n",
       "      <td>6.850057</td>\n",
       "      <td>0.413683</td>\n",
       "      <td>0.413669</td>\n",
       "      <td>2.537684</td>\n",
       "      <td>3.427262</td>\n",
       "      <td>8.794789</td>\n",
       "    </tr>\n",
       "    <tr>\n",
       "      <th>min</th>\n",
       "      <td>0.000000</td>\n",
       "      <td>-8.500000</td>\n",
       "      <td>-4.800000</td>\n",
       "      <td>0.000000</td>\n",
       "      <td>0.000000</td>\n",
       "      <td>0.000000</td>\n",
       "      <td>6.000000</td>\n",
       "      <td>0.000000</td>\n",
       "      <td>0.000000</td>\n",
       "      <td>0.000000</td>\n",
       "      <td>...</td>\n",
       "      <td>980.500000</td>\n",
       "      <td>977.100000</td>\n",
       "      <td>0.000000</td>\n",
       "      <td>0.000000</td>\n",
       "      <td>-5.400000</td>\n",
       "      <td>0.000000</td>\n",
       "      <td>0.000000</td>\n",
       "      <td>2007.000000</td>\n",
       "      <td>1.000000</td>\n",
       "      <td>1.000000</td>\n",
       "    </tr>\n",
       "    <tr>\n",
       "      <th>25%</th>\n",
       "      <td>11.000000</td>\n",
       "      <td>7.700000</td>\n",
       "      <td>18.000000</td>\n",
       "      <td>0.000000</td>\n",
       "      <td>4.000000</td>\n",
       "      <td>7.611178</td>\n",
       "      <td>31.000000</td>\n",
       "      <td>7.000000</td>\n",
       "      <td>13.000000</td>\n",
       "      <td>57.000000</td>\n",
       "      <td>...</td>\n",
       "      <td>1013.500000</td>\n",
       "      <td>1011.100000</td>\n",
       "      <td>3.000000</td>\n",
       "      <td>4.000000</td>\n",
       "      <td>16.700000</td>\n",
       "      <td>0.000000</td>\n",
       "      <td>0.000000</td>\n",
       "      <td>2011.000000</td>\n",
       "      <td>3.000000</td>\n",
       "      <td>8.000000</td>\n",
       "    </tr>\n",
       "    <tr>\n",
       "      <th>50%</th>\n",
       "      <td>24.000000</td>\n",
       "      <td>12.100000</td>\n",
       "      <td>22.700000</td>\n",
       "      <td>0.000000</td>\n",
       "      <td>5.468232</td>\n",
       "      <td>7.611178</td>\n",
       "      <td>39.000000</td>\n",
       "      <td>13.000000</td>\n",
       "      <td>18.662657</td>\n",
       "      <td>69.000000</td>\n",
       "      <td>...</td>\n",
       "      <td>1017.649940</td>\n",
       "      <td>1015.255889</td>\n",
       "      <td>4.447461</td>\n",
       "      <td>4.509930</td>\n",
       "      <td>21.400000</td>\n",
       "      <td>0.000000</td>\n",
       "      <td>0.000000</td>\n",
       "      <td>2013.000000</td>\n",
       "      <td>6.000000</td>\n",
       "      <td>16.000000</td>\n",
       "    </tr>\n",
       "    <tr>\n",
       "      <th>75%</th>\n",
       "      <td>36.000000</td>\n",
       "      <td>16.800000</td>\n",
       "      <td>28.200000</td>\n",
       "      <td>1.000000</td>\n",
       "      <td>5.468232</td>\n",
       "      <td>8.700000</td>\n",
       "      <td>46.000000</td>\n",
       "      <td>19.000000</td>\n",
       "      <td>24.000000</td>\n",
       "      <td>83.000000</td>\n",
       "      <td>...</td>\n",
       "      <td>1021.800000</td>\n",
       "      <td>1019.400000</td>\n",
       "      <td>6.000000</td>\n",
       "      <td>6.000000</td>\n",
       "      <td>26.200000</td>\n",
       "      <td>0.000000</td>\n",
       "      <td>0.000000</td>\n",
       "      <td>2015.000000</td>\n",
       "      <td>9.000000</td>\n",
       "      <td>23.000000</td>\n",
       "    </tr>\n",
       "    <tr>\n",
       "      <th>max</th>\n",
       "      <td>48.000000</td>\n",
       "      <td>33.900000</td>\n",
       "      <td>48.100000</td>\n",
       "      <td>371.000000</td>\n",
       "      <td>145.000000</td>\n",
       "      <td>14.500000</td>\n",
       "      <td>135.000000</td>\n",
       "      <td>130.000000</td>\n",
       "      <td>87.000000</td>\n",
       "      <td>100.000000</td>\n",
       "      <td>...</td>\n",
       "      <td>1041.000000</td>\n",
       "      <td>1039.600000</td>\n",
       "      <td>9.000000</td>\n",
       "      <td>9.000000</td>\n",
       "      <td>46.700000</td>\n",
       "      <td>1.000000</td>\n",
       "      <td>1.000000</td>\n",
       "      <td>2017.000000</td>\n",
       "      <td>12.000000</td>\n",
       "      <td>31.000000</td>\n",
       "    </tr>\n",
       "  </tbody>\n",
       "</table>\n",
       "<p>8 rows × 21 columns</p>\n",
       "</div>"
      ],
      "text/plain": [
       "            Location        MinTemp        MaxTemp       Rainfall  \\\n",
       "count  145460.000000  145460.000000  145460.000000  145460.000000   \n",
       "mean       23.793524      12.194034      23.221348       2.360918   \n",
       "std        14.228687       6.365750       7.088124       8.382488   \n",
       "min         0.000000      -8.500000      -4.800000       0.000000   \n",
       "25%        11.000000       7.700000      18.000000       0.000000   \n",
       "50%        24.000000      12.100000      22.700000       0.000000   \n",
       "75%        36.000000      16.800000      28.200000       1.000000   \n",
       "max        48.000000      33.900000      48.100000     371.000000   \n",
       "\n",
       "         Evaporation       Sunshine  WindGustSpeed   WindSpeed9am  \\\n",
       "count  145460.000000  145460.000000  145460.000000  145460.000000   \n",
       "mean        5.468232       7.611178      40.035230      14.043426   \n",
       "std         3.161541       2.729486      13.118253       8.861059   \n",
       "min         0.000000       0.000000       6.000000       0.000000   \n",
       "25%         4.000000       7.611178      31.000000       7.000000   \n",
       "50%         5.468232       7.611178      39.000000      13.000000   \n",
       "75%         5.468232       8.700000      46.000000      19.000000   \n",
       "max       145.000000      14.500000     135.000000     130.000000   \n",
       "\n",
       "        WindSpeed3pm    Humidity9am  ...    Pressure9am    Pressure3pm  \\\n",
       "count  145460.000000  145460.000000  ...  145460.000000  145460.000000   \n",
       "mean       18.662657      68.880831  ...    1017.649940    1015.255889   \n",
       "std         8.716581      18.854765  ...       6.728467       6.663973   \n",
       "min         0.000000       0.000000  ...     980.500000     977.100000   \n",
       "25%        13.000000      57.000000  ...    1013.500000    1011.100000   \n",
       "50%        18.662657      69.000000  ...    1017.649940    1015.255889   \n",
       "75%        24.000000      83.000000  ...    1021.800000    1019.400000   \n",
       "max        87.000000     100.000000  ...    1041.000000    1039.600000   \n",
       "\n",
       "            Cloud9am       Cloud3pm        Temp3pm      RainToday  \\\n",
       "count  145460.000000  145460.000000  145460.000000  145460.000000   \n",
       "mean        4.447461       4.509930      21.683390       0.219167   \n",
       "std         2.265604       2.092954       6.850057       0.413683   \n",
       "min         0.000000       0.000000      -5.400000       0.000000   \n",
       "25%         3.000000       4.000000      16.700000       0.000000   \n",
       "50%         4.447461       4.509930      21.400000       0.000000   \n",
       "75%         6.000000       6.000000      26.200000       0.000000   \n",
       "max         9.000000       9.000000      46.700000       1.000000   \n",
       "\n",
       "        RainTomorrow           year          month            day  \n",
       "count  145460.000000  145460.000000  145460.000000  145460.000000  \n",
       "mean        0.219146    2012.769751       6.399615      15.712258  \n",
       "std         0.413669       2.537684       3.427262       8.794789  \n",
       "min         0.000000    2007.000000       1.000000       1.000000  \n",
       "25%         0.000000    2011.000000       3.000000       8.000000  \n",
       "50%         0.000000    2013.000000       6.000000      16.000000  \n",
       "75%         0.000000    2015.000000       9.000000      23.000000  \n",
       "max         1.000000    2017.000000      12.000000      31.000000  \n",
       "\n",
       "[8 rows x 21 columns]"
      ]
     },
     "execution_count": 51,
     "metadata": {},
     "output_type": "execute_result"
    }
   ],
   "source": [
    "new_df_fix_encode.describe()"
   ]
  },
  {
   "cell_type": "code",
   "execution_count": 52,
   "metadata": {
    "ExecuteTime": {
     "end_time": "2022-05-13T06:40:20.831500Z",
     "start_time": "2022-05-13T06:40:20.427182Z"
    },
    "id": "2dPj1yseQXDJ"
   },
   "outputs": [],
   "source": [
    "# Dataset Split\n",
    "from sklearn.model_selection import train_test_split\n",
    "X = new_df_fix_encode.drop(columns=['RainTomorrow'],axis=1).values\n",
    "y = new_df_fix_encode['RainTomorrow'].values\n",
    "\n",
    "X_train, X_test, y_train, y_test = train_test_split(X, y, test_size=0.3, random_state=0)"
   ]
  },
  {
   "cell_type": "code",
   "execution_count": 53,
   "metadata": {
    "ExecuteTime": {
     "end_time": "2022-05-13T06:40:20.893821Z",
     "start_time": "2022-05-13T06:40:20.877100Z"
    },
    "colab": {
     "base_uri": "https://localhost:8080/"
    },
    "executionInfo": {
     "elapsed": 132,
     "status": "ok",
     "timestamp": 1652325623400,
     "user": {
      "displayName": "Roikhatul Miskiyah",
      "userId": "03775508799116692671"
     },
     "user_tz": -420
    },
    "id": "KxRx3Oy3S9M3",
    "outputId": "f37a6071-b53b-4257-cd8c-3ba1df73c222",
    "scrolled": true
   },
   "outputs": [
    {
     "name": "stdout",
     "output_type": "stream",
     "text": [
      "[[2.00000000e+00 1.34000000e+01 2.29000000e+01 ... 2.00800000e+03\n",
      "  1.20000000e+01 1.00000000e+00]\n",
      " [2.00000000e+00 7.40000000e+00 2.51000000e+01 ... 2.00800000e+03\n",
      "  1.20000000e+01 2.00000000e+00]\n",
      " [2.00000000e+00 1.29000000e+01 2.57000000e+01 ... 2.00800000e+03\n",
      "  1.20000000e+01 3.00000000e+00]\n",
      " ...\n",
      " [4.10000000e+01 5.40000000e+00 2.69000000e+01 ... 2.01700000e+03\n",
      "  6.00000000e+00 2.30000000e+01]\n",
      " [4.10000000e+01 7.80000000e+00 2.70000000e+01 ... 2.01700000e+03\n",
      "  6.00000000e+00 2.40000000e+01]\n",
      " [4.10000000e+01 1.49000000e+01 2.32213483e+01 ... 2.01700000e+03\n",
      "  6.00000000e+00 2.50000000e+01]]\n"
     ]
    }
   ],
   "source": [
    "print(X)"
   ]
  },
  {
   "cell_type": "code",
   "execution_count": 54,
   "metadata": {
    "ExecuteTime": {
     "end_time": "2022-05-13T06:40:21.097528Z",
     "start_time": "2022-05-13T06:40:20.905979Z"
    }
   },
   "outputs": [
    {
     "data": {
      "text/plain": [
       "array([ 2,  4, 10, 11, 21, 24, 26, 27, 30, 34, 37, 38, 42, 45, 47,  9, 40,\n",
       "       23,  5,  6, 35, 19, 18, 20, 25, 33, 44, 12,  7,  8, 14, 39,  0, 22,\n",
       "       28, 48,  1, 46, 29, 32, 31, 36, 43, 15, 17,  3, 13, 16, 41])"
      ]
     },
     "execution_count": 54,
     "metadata": {},
     "output_type": "execute_result"
    }
   ],
   "source": [
    "new_df_fix_encode.Location.unique()"
   ]
  },
  {
   "cell_type": "code",
   "execution_count": 55,
   "metadata": {
    "ExecuteTime": {
     "end_time": "2022-05-13T06:40:21.318601Z",
     "start_time": "2022-05-13T06:40:21.107095Z"
    },
    "colab": {
     "base_uri": "https://localhost:8080/"
    },
    "executionInfo": {
     "elapsed": 131,
     "status": "ok",
     "timestamp": 1652325623406,
     "user": {
      "displayName": "Roikhatul Miskiyah",
      "userId": "03775508799116692671"
     },
     "user_tz": -420
    },
    "id": "FvcFIKiQTBbq",
    "outputId": "9ddf484f-c775-482f-e927-f596b358b0b4"
   },
   "outputs": [
    {
     "name": "stdout",
     "output_type": "stream",
     "text": [
      "[0 0 0 ... 0 0 0]\n"
     ]
    }
   ],
   "source": [
    "print(y)"
   ]
  },
  {
   "cell_type": "markdown",
   "metadata": {
    "id": "rTTublSNcrGK"
   },
   "source": [
    "## G. Pendefinisian, Pelatihan, dan Evaluasi Model\n"
   ]
  },
  {
   "cell_type": "markdown",
   "metadata": {
    "id": "1nlRdZtNRPWI"
   },
   "source": [
    "### Logistic Regression Model\n"
   ]
  },
  {
   "cell_type": "code",
   "execution_count": 56,
   "metadata": {
    "ExecuteTime": {
     "end_time": "2022-05-13T06:40:26.602944Z",
     "start_time": "2022-05-13T06:40:21.327225Z"
    },
    "colab": {
     "base_uri": "https://localhost:8080/"
    },
    "executionInfo": {
     "elapsed": 3037,
     "status": "ok",
     "timestamp": 1652325626321,
     "user": {
      "displayName": "Roikhatul Miskiyah",
      "userId": "03775508799116692671"
     },
     "user_tz": -420
    },
    "id": "aPconggaN9ed",
    "outputId": "44285458-d32a-44c4-cbd5-824ab969c86a"
   },
   "outputs": [
    {
     "name": "stderr",
     "output_type": "stream",
     "text": [
      "C:\\users\\zhafran\\appdata\\local\\programs\\python\\python39\\lib\\site-packages\\sklearn\\linear_model\\_logistic.py:814: ConvergenceWarning: lbfgs failed to converge (status=1):\n",
      "STOP: TOTAL NO. of ITERATIONS REACHED LIMIT.\n",
      "\n",
      "Increase the number of iterations (max_iter) or scale the data as shown in:\n",
      "    https://scikit-learn.org/stable/modules/preprocessing.html\n",
      "Please also refer to the documentation for alternative solver options:\n",
      "    https://scikit-learn.org/stable/modules/linear_model.html#logistic-regression\n",
      "  n_iter_i = _check_optimize_result(\n"
     ]
    },
    {
     "data": {
      "text/plain": [
       "LogisticRegression()"
      ]
     },
     "execution_count": 56,
     "metadata": {},
     "output_type": "execute_result"
    }
   ],
   "source": [
    "# Create Model\n",
    "model = LogisticRegression()\n",
    "model.fit(X_train,y_train)"
   ]
  },
  {
   "cell_type": "code",
   "execution_count": 57,
   "metadata": {
    "ExecuteTime": {
     "end_time": "2022-05-13T06:40:26.637396Z",
     "start_time": "2022-05-13T06:40:26.609530Z"
    },
    "colab": {
     "base_uri": "https://localhost:8080/"
    },
    "executionInfo": {
     "elapsed": 207,
     "status": "ok",
     "timestamp": 1652325626323,
     "user": {
      "displayName": "Roikhatul Miskiyah",
      "userId": "03775508799116692671"
     },
     "user_tz": -420
    },
    "id": "nLSgaSvzSNvQ",
    "outputId": "7fda890b-432a-41f7-a4f4-f07ff71c61f1"
   },
   "outputs": [
    {
     "name": "stdout",
     "output_type": "stream",
     "text": [
      "Logistic Regression accuracy =  0.8418121820431734\n"
     ]
    }
   ],
   "source": [
    "y_prediction = model.predict(X_test)\n",
    "print('Logistic Regression accuracy = ', metrics.accuracy_score(y_test,y_prediction))"
   ]
  },
  {
   "cell_type": "code",
   "execution_count": 58,
   "metadata": {
    "ExecuteTime": {
     "end_time": "2022-05-13T06:40:26.785854Z",
     "start_time": "2022-05-13T06:40:26.643477Z"
    },
    "colab": {
     "base_uri": "https://localhost:8080/"
    },
    "executionInfo": {
     "elapsed": 199,
     "status": "ok",
     "timestamp": 1652325626324,
     "user": {
      "displayName": "Roikhatul Miskiyah",
      "userId": "03775508799116692671"
     },
     "user_tz": -420
    },
    "id": "4lz1wghlSOjz",
    "outputId": "0c71ff52-ab4a-47d8-ae75-d2215a2db421"
   },
   "outputs": [
    {
     "name": "stdout",
     "output_type": "stream",
     "text": [
      "y_predicted [0 0 0 ... 0 0 1]\n",
      "y_test [1 1 0 ... 0 0 0]\n"
     ]
    }
   ],
   "source": [
    "print(\"y_predicted\",y_prediction)\n",
    "print(\"y_test\",y_test)"
   ]
  },
  {
   "cell_type": "code",
   "execution_count": 59,
   "metadata": {
    "ExecuteTime": {
     "end_time": "2022-05-13T06:40:27.015909Z",
     "start_time": "2022-05-13T06:40:26.792436Z"
    },
    "id": "CC_xHtGzSRyR"
   },
   "outputs": [],
   "source": [
    "# Confusion Matrix\n",
    "from sklearn.metrics import accuracy_score\n",
    "from sklearn.metrics import confusion_matrix"
   ]
  },
  {
   "cell_type": "code",
   "execution_count": 60,
   "metadata": {
    "ExecuteTime": {
     "end_time": "2022-05-13T06:40:27.300656Z",
     "start_time": "2022-05-13T06:40:27.021985Z"
    },
    "colab": {
     "base_uri": "https://localhost:8080/"
    },
    "executionInfo": {
     "elapsed": 153,
     "status": "ok",
     "timestamp": 1652325626326,
     "user": {
      "displayName": "Roikhatul Miskiyah",
      "userId": "03775508799116692671"
     },
     "user_tz": -420
    },
    "id": "22-Yv_z4SSb6",
    "outputId": "f3b9ba23-38cf-4e42-fe87-8f85ea604a90"
   },
   "outputs": [
    {
     "name": "stdout",
     "output_type": "stream",
     "text": [
      "0.8418121820431734\n",
      "[[32312  1786]\n",
      " [ 5117  4423]]\n"
     ]
    }
   ],
   "source": [
    "print(accuracy_score(y_test,y_prediction))\n",
    "matrix=confusion_matrix(y_test,y_prediction)\n",
    "print(matrix)"
   ]
  },
  {
   "cell_type": "code",
   "execution_count": 61,
   "metadata": {
    "ExecuteTime": {
     "end_time": "2022-05-13T06:40:27.360947Z",
     "start_time": "2022-05-13T06:40:27.307745Z"
    },
    "colab": {
     "base_uri": "https://localhost:8080/"
    },
    "executionInfo": {
     "elapsed": 135,
     "status": "ok",
     "timestamp": 1652325626327,
     "user": {
      "displayName": "Roikhatul Miskiyah",
      "userId": "03775508799116692671"
     },
     "user_tz": -420
    },
    "id": "zVqzDqwpTgZw",
    "outputId": "ecfed708-04d6-422e-a307-42068e4edcb8"
   },
   "outputs": [
    {
     "name": "stdout",
     "output_type": "stream",
     "text": [
      "coefficient of determination: 0.84161576083754\n",
      "intercept: [3.32908585e-05]\n",
      "slope: [[-0.00321232  0.00699179 -0.00864098  0.02420346 -0.02795465 -0.12533946\n",
      "   0.05081154 -0.0151524  -0.01886052  0.00636764  0.05362408  0.01700745\n",
      "  -0.07792945  0.0368375   0.09147987  0.01629385  0.01605545  0.02753489\n",
      "   0.02654852 -0.00068035]]\n"
     ]
    }
   ],
   "source": [
    "r_sq = model.score(X_train, y_train)\n",
    "print('coefficient of determination:', r_sq)\n",
    "print('intercept:', model.intercept_)\n",
    "print('slope:', model.coef_)"
   ]
  },
  {
   "cell_type": "code",
   "execution_count": 62,
   "metadata": {
    "ExecuteTime": {
     "end_time": "2022-05-13T06:40:27.521056Z",
     "start_time": "2022-05-13T06:40:27.370065Z"
    },
    "colab": {
     "base_uri": "https://localhost:8080/"
    },
    "executionInfo": {
     "elapsed": 108,
     "status": "ok",
     "timestamp": 1652325626328,
     "user": {
      "displayName": "Roikhatul Miskiyah",
      "userId": "03775508799116692671"
     },
     "user_tz": -420
    },
    "id": "ptSUDCfVTkeJ",
    "outputId": "cb884ae9-f00c-4857-87f1-2b5c873720e6"
   },
   "outputs": [
    {
     "data": {
      "text/plain": [
       "0.07396920308500343"
      ]
     },
     "execution_count": 62,
     "metadata": {},
     "output_type": "execute_result"
    }
   ],
   "source": [
    "# r2_score\n",
    "from sklearn.metrics import r2_score\n",
    "r2_score(y_test, y_prediction)"
   ]
  },
  {
   "cell_type": "code",
   "execution_count": 63,
   "metadata": {
    "ExecuteTime": {
     "end_time": "2022-05-13T06:40:27.579825Z",
     "start_time": "2022-05-13T06:40:27.527637Z"
    },
    "colab": {
     "base_uri": "https://localhost:8080/"
    },
    "executionInfo": {
     "elapsed": 65,
     "status": "ok",
     "timestamp": 1652325626329,
     "user": {
      "displayName": "Roikhatul Miskiyah",
      "userId": "03775508799116692671"
     },
     "user_tz": -420
    },
    "id": "0W6jQfdVT2dS",
    "outputId": "eb127479-3ab9-45cf-997f-cd0ff5e60c06"
   },
   "outputs": [
    {
     "name": "stdout",
     "output_type": "stream",
     "text": [
      "0.15818781795682663\n",
      "0.397728321793692\n"
     ]
    }
   ],
   "source": [
    "# mse score\n",
    "from sklearn.metrics import mean_squared_error\n",
    "mse = mean_squared_error(y_test,y_prediction)\n",
    "rmse = np.sqrt(mse)\n",
    "print(mse)\n",
    "print(rmse)"
   ]
  },
  {
   "cell_type": "code",
   "execution_count": 64,
   "metadata": {
    "ExecuteTime": {
     "end_time": "2022-05-13T06:40:27.751584Z",
     "start_time": "2022-05-13T06:40:27.585904Z"
    },
    "id": "w_-fq7i42sKe"
   },
   "outputs": [],
   "source": [
    "pickle.dump(model, open('logistic_regression.pkl','wb'))"
   ]
  },
  {
   "cell_type": "markdown",
   "metadata": {
    "id": "u3RXufwARTiR"
   },
   "source": [
    "### SVM Model"
   ]
  },
  {
   "cell_type": "code",
   "execution_count": 65,
   "metadata": {
    "ExecuteTime": {
     "end_time": "2022-05-13T06:40:27.921315Z",
     "start_time": "2022-05-13T06:40:27.758170Z"
    },
    "id": "OnVMK0E_Rk9J"
   },
   "outputs": [],
   "source": [
    "#Create model\n",
    "svmc = svm.SVC(kernel='linear') # Linear Kernel"
   ]
  },
  {
   "cell_type": "code",
   "execution_count": null,
   "metadata": {
    "ExecuteTime": {
     "start_time": "2022-05-13T06:37:52.251Z"
    },
    "colab": {
     "background_save": true
    },
    "id": "k3iyEaqkJyO0"
   },
   "outputs": [],
   "source": [
    "#Train the model using the training sets\n",
    "svmc.fit(X_train, y_train)"
   ]
  },
  {
   "cell_type": "code",
   "execution_count": null,
   "metadata": {
    "ExecuteTime": {
     "start_time": "2022-05-13T06:37:52.263Z"
    },
    "colab": {
     "background_save": true
    },
    "id": "uO8WoNuEUP1g"
   },
   "outputs": [],
   "source": [
    "#Predict the response for test dataset\n",
    "svmc_pred = svmc.predict(X_test)"
   ]
  },
  {
   "cell_type": "code",
   "execution_count": null,
   "metadata": {
    "ExecuteTime": {
     "start_time": "2022-05-13T06:37:52.279Z"
    },
    "colab": {
     "background_save": true
    },
    "id": "1DymWieDUQx8"
   },
   "outputs": [],
   "source": [
    "# Model Accuracy\n",
    "print(\"Accuracy:\", metrics.accuracy_score(y_test, svmc_pred))"
   ]
  },
  {
   "cell_type": "code",
   "execution_count": null,
   "metadata": {
    "ExecuteTime": {
     "start_time": "2022-05-13T06:37:52.293Z"
    },
    "colab": {
     "background_save": true
    },
    "id": "O4uRLK1YUSpe"
   },
   "outputs": [],
   "source": [
    "# Confusion Matrix\n",
    "print(accuracy_score(y_test,svmc_pred))\n",
    "matrix=confusion_matrix(y_test,svmc_pred)\n",
    "print(matrix)"
   ]
  },
  {
   "cell_type": "code",
   "execution_count": null,
   "metadata": {
    "ExecuteTime": {
     "start_time": "2022-05-13T06:37:52.305Z"
    },
    "colab": {
     "background_save": true
    },
    "id": "Mbdj51VGUVOc"
   },
   "outputs": [],
   "source": [
    "# Model Precision\n",
    "print(\"Precision:\", metrics.precision_score(y_test, svmc_pred))"
   ]
  },
  {
   "cell_type": "code",
   "execution_count": null,
   "metadata": {
    "ExecuteTime": {
     "start_time": "2022-05-13T06:37:52.319Z"
    },
    "colab": {
     "background_save": true
    },
    "id": "wvzzBF2bUbQK"
   },
   "outputs": [],
   "source": [
    "# Model Recall\n",
    "print(\"Recall:\", metrics.recall_score(y_test, svmc_pred))"
   ]
  },
  {
   "cell_type": "code",
   "execution_count": null,
   "metadata": {
    "ExecuteTime": {
     "start_time": "2022-05-13T06:37:52.333Z"
    },
    "colab": {
     "background_save": true
    },
    "id": "foI5XWU13G_1"
   },
   "outputs": [],
   "source": [
    "pickle.dump(svmc, open('svm.pkl','wb'))"
   ]
  },
  {
   "cell_type": "markdown",
   "metadata": {
    "id": "m5oWFzdsc3Wy"
   },
   "source": [
    "## H. Kesimpulan "
   ]
  },
  {
   "cell_type": "code",
   "execution_count": null,
   "metadata": {
    "ExecuteTime": {
     "start_time": "2022-05-13T06:37:54.040Z"
    },
    "colab": {
     "background_save": true,
     "base_uri": "https://localhost:8080/",
     "height": 200
    },
    "executionInfo": {
     "elapsed": 23,
     "status": "error",
     "timestamp": 1652326323171,
     "user": {
      "displayName": "Ari Sandy Kurniawan",
      "userId": "00960537462429273515"
     },
     "user_tz": -420
    },
    "id": "HKssD9O1UvTL"
   },
   "outputs": [],
   "source": [
    "print('Logistic Regression accuracy = ', metrics.accuracy_score(y_prediction,y_test))\n",
    "print('Support Vector Machine Accuracy:', metrics.accuracy_score(y_test, svmc_pred))"
   ]
  }
 ],
 "metadata": {
  "colab": {
   "collapsed_sections": [],
   "name": "PYTN_KampusMerdeka_FP2_RoikhatulMiskiyah.ipynb",
   "version": ""
  },
  "kernelspec": {
   "display_name": "Python 3 (ipykernel)",
   "language": "python",
   "name": "python3"
  },
  "language_info": {
   "codemirror_mode": {
    "name": "ipython",
    "version": 3
   },
   "file_extension": ".py",
   "mimetype": "text/x-python",
   "name": "python",
   "nbconvert_exporter": "python",
   "pygments_lexer": "ipython3",
   "version": "3.9.2"
  },
  "latex_envs": {
   "LaTeX_envs_menu_present": true,
   "autoclose": false,
   "autocomplete": true,
   "bibliofile": "biblio.bib",
   "cite_by": "apalike",
   "current_citInitial": 1,
   "eqLabelWithNumbers": true,
   "eqNumInitial": 1,
   "hotkeys": {
    "equation": "Ctrl-E",
    "itemize": "Ctrl-I"
   },
   "labels_anchors": false,
   "latex_user_defs": false,
   "report_style_numbering": false,
   "user_envs_cfg": false
  },
  "toc": {
   "base_numbering": 1,
   "nav_menu": {},
   "number_sections": true,
   "sideBar": true,
   "skip_h1_title": false,
   "title_cell": "Table of Contents",
   "title_sidebar": "Contents",
   "toc_cell": false,
   "toc_position": {},
   "toc_section_display": true,
   "toc_window_display": true
  }
 },
 "nbformat": 4,
 "nbformat_minor": 1
}
